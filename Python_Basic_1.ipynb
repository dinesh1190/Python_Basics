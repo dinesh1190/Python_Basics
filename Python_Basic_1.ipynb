{
  "nbformat": 4,
  "nbformat_minor": 0,
  "metadata": {
    "colab": {
      "provenance": [],
      "authorship_tag": "ABX9TyM3FwiwS1aIBF8f8qmaD5Pg",
      "include_colab_link": true
    },
    "kernelspec": {
      "name": "python3",
      "display_name": "Python 3"
    },
    "language_info": {
      "name": "python"
    }
  },
  "cells": [
    {
      "cell_type": "markdown",
      "metadata": {
        "id": "view-in-github",
        "colab_type": "text"
      },
      "source": [
        "<a href=\"https://colab.research.google.com/github/dinesh1190/Python_Basics/blob/main/Python_Basic_1.ipynb\" target=\"_parent\"><img src=\"https://colab.research.google.com/assets/colab-badge.svg\" alt=\"Open In Colab\"/></a>"
      ]
    },
    {
      "cell_type": "code",
      "execution_count": null,
      "metadata": {
        "id": "lOvxI11iXooA"
      },
      "outputs": [],
      "source": [
        "\n",
        "Answer 1 :\n",
        " Values:\n",
        "\n",
        "'hello' (string)\n",
        "-87.8 (float)\n",
        "6 (integer)\n",
        "\n",
        "Expressions:\n",
        "\n",
        "*(multiplication operator)\n",
        "-(subtraction operator)\n",
        "/ (division operator)\n",
        "+(addition operator)"
      ]
    },
    {
      "cell_type": "code",
      "source": [
        "Answer 2 :\n",
        "String in Python:\n",
        "\n",
        "1.a sequence of characters enclosed in single quotes (''), double quotes (\"\") or triple quotes (''' ''').\n",
        "2.used to store and manipulate textual data.\n",
        "\n",
        "Examples of strings in Python: 'hello', \"world\", \"12345\".\n",
        "\n",
        "Variable in Python:\n",
        "\n",
        "1.reference to a value stored in the computer's memory.\n",
        "2.used to store and manipulate various types of data, including strings.\n",
        "3.Before using a variable, it needs to be declared and assigned a value.\n",
        "The value assigned to a variable can be a string, number, or any other valid data type in Python.\n",
        "Once a variable is assigned a value, it can be used to perform operations or retrieve the stored value."
      ],
      "metadata": {
        "id": "jk6lmU0sgoMs"
      },
      "execution_count": null,
      "outputs": []
    },
    {
      "cell_type": "code",
      "source": [
        "Answer 3 :\n",
        "\n",
        "1.Integer (int):\n",
        "The integer data type represents whole numbers without decimal points.\n",
        "Examples of integers: -3, 0, 42, 1000.\n",
        "Integers can be positive, negative, or zero.\n",
        "\n",
        "2.String (str):\n",
        "The string data type represents a sequence of characters.\n",
        "Strings are enclosed in single quotes (''), double quotes (\"\") or triple quotes (''' ''').\n",
        "Examples of strings: 'hello', \"world\", \"12345\".\n",
        "Strings are used to store and manipulate textual data.\n",
        "\n",
        "3.Float (float):\n",
        "The float data type represents decimal numbers, also known as floating-point numbers.\n",
        "Examples of floats: -3.14, 0.5, 3.0, 123.456.\n",
        "Floats can represent both positive and negative numbers, and they can include a fractional part."
      ],
      "metadata": {
        "id": "FlrNBuYeiVUd"
      },
      "execution_count": null,
      "outputs": []
    },
    {
      "cell_type": "code",
      "source": [
        "Answer 4 :\n",
        "In Python, an expression is a combination of values, variables, operators, and function calls that evaluates to a single value\n",
        "\n",
        "1.Values: Values can be literals (directly written in the code) or variables that hold data. Examples of values include integers (e.g., 5), strings (e.g., 'hello'), floats (e.g., 3.14), and more.\n",
        "\n",
        "2.Operators: Operators are symbols that perform specific operations on values or variables. Python provides various types of operators, such as arithmetic operators (+, -, *, /), comparison operators (==, !=, <, >), logical operators (and, or, not), and more.\n",
        "\n",
        "3.Variables: Variables are used to store values that can be referenced and manipulated within an expression. They are typically declared with a name and assigned a value.\n",
        "\n",
        "4.Function calls: Functions are reusable blocks of code that perform specific tasks. In an expression, function calls can be used to execute functions and obtain a return value."
      ],
      "metadata": {
        "id": "IYymByUWiwwG"
      },
      "execution_count": null,
      "outputs": []
    },
    {
      "cell_type": "code",
      "source": [
        "Answer 5:\n",
        "The key difference between an expression and a statement is that an expression produces a value when evaluated, while a statement doesn't necessarily produce a value. Instead, statements are executed to perform some action or control the flow of the program.\n",
        "\n",
        "In the case of an assignment statement like spam = 10, it is a statement. It assigns the value 10 to the variable spam, but it does not produce a value itself."
      ],
      "metadata": {
        "id": "PHVlNQAGjpve"
      },
      "execution_count": null,
      "outputs": []
    },
    {
      "cell_type": "code",
      "source": [
        "Answer 6:\n",
        "bacon = 22\n",
        "bacon + 1"
      ],
      "metadata": {
        "colab": {
          "base_uri": "https://localhost:8080/"
        },
        "id": "81HQk93el-Dl",
        "outputId": "c6489a5e-f71c-4788-a9d3-17c5e2175c20"
      },
      "execution_count": 8,
      "outputs": [
        {
          "output_type": "execute_result",
          "data": {
            "text/plain": [
              "23"
            ]
          },
          "metadata": {},
          "execution_count": 8
        }
      ]
    },
    {
      "cell_type": "code",
      "source": [
        "Answer 7:\n",
        "'spam'+'spamspam'\n",
        "'spam' * 3"
      ],
      "metadata": {
        "colab": {
          "base_uri": "https://localhost:8080/",
          "height": 36
        },
        "id": "73EfzqGBoYoY",
        "outputId": "5e907754-80f4-4ac4-eecd-c73f3c2edafb"
      },
      "execution_count": 5,
      "outputs": [
        {
          "output_type": "execute_result",
          "data": {
            "text/plain": [
              "'spamspamspam'"
            ],
            "application/vnd.google.colaboratory.intrinsic+json": {
              "type": "string"
            }
          },
          "metadata": {},
          "execution_count": 5
        }
      ]
    },
    {
      "cell_type": "code",
      "source": [
        "  Answer 8 :\n",
        "  1.Python allows variable names to start with a letter (a-z, A-Z) or an underscore (_).\n",
        "2.Python does not allow variable names to start with a number."
      ],
      "metadata": {
        "id": "Uqvjrcufo3Mf"
      },
      "execution_count": null,
      "outputs": []
    },
    {
      "cell_type": "code",
      "source": [
        "Answer 9:\n",
        "1.Integer conversion: int()\n",
        "\n",
        "-The int() function can be used to convert a value into an integer.\n",
        "-It takes a value as an argument and returns its integer representation.\n",
        "\n",
        "2.Floating-point conversion: float()\n",
        "\n",
        "-The float() function is used to convert a value into a floating-point number.\n",
        "-It takes a value as an argument and returns its floating-point representation.\n",
        "\n",
        "3.String conversion: str()\n",
        "\n",
        "-The str() function is used to convert a value into a string.\n",
        "-It takes a value as an argument and returns its string representation.\n"
      ],
      "metadata": {
        "id": "wCRMhxxNpiXf"
      },
      "execution_count": null,
      "outputs": []
    },
    {
      "cell_type": "code",
      "source": [
        "Answer 10:\n",
        "'I have eaten' + 99 + 'burritos'"
      ],
      "metadata": {
        "colab": {
          "base_uri": "https://localhost:8080/",
          "height": 130
        },
        "id": "wZ4S_ygwqgFz",
        "outputId": "a016fbb2-b6b6-4c55-c80b-3dfddf885a9b"
      },
      "execution_count": 9,
      "outputs": [
        {
          "output_type": "error",
          "ename": "SyntaxError",
          "evalue": "ignored",
          "traceback": [
            "\u001b[0;36m  File \u001b[0;32m\"<ipython-input-9-c60894e9e96e>\"\u001b[0;36m, line \u001b[0;32m1\u001b[0m\n\u001b[0;31m    Answer 10:\u001b[0m\n\u001b[0m           ^\u001b[0m\n\u001b[0;31mSyntaxError\u001b[0m\u001b[0;31m:\u001b[0m invalid syntax\n"
          ]
        }
      ]
    },
    {
      "cell_type": "code",
      "source": [
        "'I have eaten' +' '+ str(99) + ' ' + 'burritos'"
      ],
      "metadata": {
        "colab": {
          "base_uri": "https://localhost:8080/",
          "height": 36
        },
        "id": "HzW1my6ss_rv",
        "outputId": "7751e49e-47bc-4eaa-a902-38cc5293be61"
      },
      "execution_count": 12,
      "outputs": [
        {
          "output_type": "execute_result",
          "data": {
            "text/plain": [
              "'I have eaten 99 burritos'"
            ],
            "application/vnd.google.colaboratory.intrinsic+json": {
              "type": "string"
            }
          },
          "metadata": {},
          "execution_count": 12
        }
      ]
    }
  ]
}