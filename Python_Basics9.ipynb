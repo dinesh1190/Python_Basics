{
  "nbformat": 4,
  "nbformat_minor": 0,
  "metadata": {
    "colab": {
      "provenance": [],
      "authorship_tag": "ABX9TyOVkR0pPpHeLRTs+uPwPeZR",
      "include_colab_link": true
    },
    "kernelspec": {
      "name": "python3",
      "display_name": "Python 3"
    },
    "language_info": {
      "name": "python"
    }
  },
  "cells": [
    {
      "cell_type": "markdown",
      "metadata": {
        "id": "view-in-github",
        "colab_type": "text"
      },
      "source": [
        "<a href=\"https://colab.research.google.com/github/dinesh1190/Python_Basics/blob/main/Python_Basics9.ipynb\" target=\"_parent\"><img src=\"https://colab.research.google.com/assets/colab-badge.svg\" alt=\"Open In Colab\"/></a>"
      ]
    },
    {
      "cell_type": "markdown",
      "source": [
        "Answer 1\n",
        "\n",
        "\n",
        "In Python, a relative path refers to a file or directory path that is specified relative to the current working directory or the location of the script being executed. It specifies the location of a file or directory relative to the current location, rather than using an absolute path that starts from the root of the file system.\n",
        "\n",
        "The current working directory is the directory from which the Python script is executed or the directory where the interactive Python shell is running. When you specify a relative path, it is resolved based on the current working directory.\n",
        "\n",
        "Relative paths can use different notation depending on the operating system. For example:\n",
        "\n",
        "On Windows: folder/file.txt, ..\\parent_folder\\file.txt\n",
        "On Unix-based systems (Linux, macOS): folder/file.txt, ../parent_folder/file.txt\n",
        "\n",
        "\n"
      ],
      "metadata": {
        "id": "sBJU23UZ0T_J"
      }
    },
    {
      "cell_type": "markdown",
      "source": [
        "Answer 2\n",
        "\n",
        "In most operating systems, an absolute path starts with the root directory of the file system. The root directory is the top-level directory that serves as the starting point for the file system hierarchy.\n",
        "\n",
        "The notation for an absolute path can vary depending on the operating system:\n",
        "\n",
        "On Windows: An absolute path typically starts with a drive letter followed by a colon (:) and a backslash (\\). For example, C:\\path\\to\\file.\n",
        "\n",
        "On Unix-based systems (Linux, macOS): An absolute path starts with a forward slash (/). For example, /path/to/file."
      ],
      "metadata": {
        "id": "dhruEqXp1P8k"
      }
    },
    {
      "cell_type": "markdown",
      "source": [
        "Answer 3\n",
        "\n",
        "\n",
        "The functions os.getcwd() and os.chdir() are part of the os module in Python, which provides a way to interact with the operating system. They are used to work with file paths and directories.\n",
        "\n",
        "**os.getcwd():** This function stands for \"get current working directory.\" It returns a string representing the current working directory (the directory in which the Python script is being executed). The working directory is the default location where the file operations occur unless specified otherwise.\n",
        "\n",
        "**os.chdir(path):** This function stands for \"change directory.\" It allows you to change the current working directory to the one specified by the path argument.\n"
      ],
      "metadata": {
        "id": "KSY8YJNm4Te4"
      }
    },
    {
      "cell_type": "markdown",
      "source": [
        "Answer 4\n",
        "\n",
        ". (dot): The dot (.) represents the current directory. It is used to refer to the directory where the command or script is being executed. For example, if you are in the /home/user directory and you use a relative path with . in it, it refers to the current directory, /home/user.\n",
        "\n",
        ".. (dot dot): The dot dot (..) represents the parent directory. It is used to refer to the directory immediately above the current directory. For example, if you are in the /home/user directory and you use a relative path with .. in it, it refers to the parent directory, /home."
      ],
      "metadata": {
        "id": "IsVEm9C44hjS"
      }
    },
    {
      "cell_type": "markdown",
      "source": [
        "Answer 5\n",
        "\n",
        "\n",
        "In the file path C:\\bacon\\eggs\\spam.txt, the directory name and the base name can be identified as follows:\n",
        "\n",
        "Directory Name: C:\\bacon\\eggs\n",
        "Base Name: spam.txt\n",
        "The directory name represents the path to the parent directory where the file spam.txt is located. In this case, it is C:\\bacon\\eggs. It specifies the folder or directory hierarchy in which the file resides.\n",
        "\n",
        "The base name represents the actual name of the file itself, which is spam.txt. It does not include the directory path; it is simply the name of the file along with its extension.\n",
        "\n",
        "Separating the directory name and the base name can be useful when you need to manipulate or extract specific parts of a file path programmatically. Python provides the os.path module with functions like os.path.dirname() and os.path.basename() to extract the directory name and the base name, respectively.\n",
        "\n",
        "\n",
        "\n",
        "\n"
      ],
      "metadata": {
        "id": "i5o_ByY74r5S"
      }
    },
    {
      "cell_type": "markdown",
      "source": [
        "Answer 6\n",
        "\n",
        "\n",
        "**\"r\" (Read Mode):** This is the default mode and is used for reading files. It opens the file for reading-only and returns a file object. If the file does not exist, it raises a FileNotFoundError. Example: open(\"file.txt\", \"r\")\n",
        "\n",
        "**\"w\" (Write Mode):** This mode is used to create a new file or overwrite an existing file. It opens the file for writing and truncates the file if it already exists. If the file doesn't exist, a new file is created. Example: open(\"file.txt\", \"w\")\n",
        "\n",
        "**\"a\" (Append Mode):** This mode is used for appending data to an existing file. It opens the file for writing but does not truncate the file. If the file doesn't exist, a new file is created. The data written using this mode will be added at the end of the file. Example: open(\"file.txt\", \"a\")"
      ],
      "metadata": {
        "id": "O6vvSiHg40ec"
      }
    },
    {
      "cell_type": "markdown",
      "source": [
        "Answer 7\n",
        "\n",
        "Here are the possible scenarios:\n",
        "\n",
        "If the file already exists and you open it in write mode, the file's content will be cleared, and you'll have an empty file. The file's metadata (e.g., permissions, timestamps) may remain unchanged.\n",
        "\n",
        "If the file doesn't exist, a new file with the specified name will be created. This new file will be empty, ready to receive the data you write to it.\n",
        "\n",
        "It is essential to exercise caution when using write mode since any existing data in the file will be lost. If you want to add new content to an existing file without erasing its previous contents, you should use append mode (\"a\") instead. Append mode allows you to write data at the end of the file without overwriting its existing content."
      ],
      "metadata": {
        "id": "wYxU3-sq4_nm"
      }
    },
    {
      "cell_type": "markdown",
      "source": [
        "Answer 8\n",
        "\n",
        "**read():** The read() method reads the entire contents of a file as a single string. It returns a string containing the data from the file, including newline characters ('\\n'). The entire content of the file is loaded into memory as a single string.\n",
        "\n",
        "\n",
        "**readlines():** The readlines() method reads the contents of a file line by line and returns a list where each element represents a line from the file. Each line is stored as a string, and the newline characters ('\\n') are included at the end of each line."
      ],
      "metadata": {
        "id": "fdLYxqDV5MiL"
      }
    },
    {
      "cell_type": "markdown",
      "source": [
        "Answer 9\n",
        "\n",
        "In Python, the shelf module provides a dictionary-like interface for storing and retrieving persistent objects on disk. The values stored in a shelf resemble a dictionary data structure.\n",
        "\n",
        "A shelf value, similar to a dictionary, consists of key-value pairs. Each key must be a string, while the values can be any picklable object (objects that can be serialized and deserialized using the pickle module). The shelf module takes care of serialization and persistence, allowing you to store and retrieve Python objects efficiently."
      ],
      "metadata": {
        "id": "SXqQq-SY5aHN"
      }
    }
  ]
}