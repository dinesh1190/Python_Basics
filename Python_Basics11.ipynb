{
  "nbformat": 4,
  "nbformat_minor": 0,
  "metadata": {
    "colab": {
      "provenance": [],
      "authorship_tag": "ABX9TyOYf7IfVjHPADvsxseJS57y",
      "include_colab_link": true
    },
    "kernelspec": {
      "name": "python3",
      "display_name": "Python 3"
    },
    "language_info": {
      "name": "python"
    }
  },
  "cells": [
    {
      "cell_type": "markdown",
      "metadata": {
        "id": "view-in-github",
        "colab_type": "text"
      },
      "source": [
        "<a href=\"https://colab.research.google.com/github/dinesh1190/Python_Basics/blob/main/Python_Basics11.ipynb\" target=\"_parent\"><img src=\"https://colab.research.google.com/assets/colab-badge.svg\" alt=\"Open In Colab\"/></a>"
      ]
    },
    {
      "cell_type": "markdown",
      "source": [
        "####**Answer 1**\n",
        "\n",
        "assert spam >= 0, \"spam should be a non-negative integer\"\n"
      ],
      "metadata": {
        "id": "Of2EeROz8pDD"
      }
    },
    {
      "cell_type": "markdown",
      "source": [
        "####**Answer 2**\n",
        "\n",
        "\n",
        "To compare two strings while ignoring their cases, you can convert them to lowercase using the lower() method. Here's an example of an assert statement that triggers an AssertionError if the variables eggs and bacon contain strings that are the same, regardless of their cases:\n",
        "\n",
        "assert eggs.lower() != bacon.lower(), \"eggs and bacon should be different strings\"\n"
      ],
      "metadata": {
        "id": "-f0rJRb789gK"
      }
    },
    {
      "cell_type": "markdown",
      "source": [
        "####**Answer 3**\n",
        "\n",
        "\n",
        "assert False, \"This assert statement always triggers an AssertionError\""
      ],
      "metadata": {
        "id": "UsP7usJi9ZWl"
      }
    },
    {
      "cell_type": "markdown",
      "source": [
        "####**Answer 4**\n",
        "\n",
        "import logging\n",
        "logging.basicConfig(level=logging.DEBUG)\n"
      ],
      "metadata": {
        "id": "NkxgFnHC9rjl"
      }
    },
    {
      "cell_type": "markdown",
      "source": [
        "**Answer 5**\n",
        "\n",
        "\n",
        "import logging\n",
        "logging.basicConfig(filename='programLog.txt', level=logging.DEBUG)"
      ],
      "metadata": {
        "id": "uMbJ94cs97NG"
      }
    },
    {
      "cell_type": "markdown",
      "source": [
        "**Answer 6**\n",
        "\n",
        "\n",
        "DEBUG: Detailed information for diagnostic purposes. Typically used during development and debugging to provide the most detailed logging information.\n",
        "\n",
        "\n",
        "INFO: General information about the program's execution. Provides confirmation that things are working as expected.\n",
        "\n",
        "\n",
        "WARNING: Indicates potential issues or situations that could cause problems in\n",
        "the future, but the program can still continue running.\n",
        "\n",
        "\n",
        "ERROR: Indicates an error has occurred that might prevent the program from functioning correctly. The program can still continue running after logging the\n",
        "error.\n",
        "\n",
        "\n",
        "CRITICAL: Indicates a critical error or a severe problem that may lead to program termination. The highest level of severity."
      ],
      "metadata": {
        "id": "vVo5Lhbv-HJF"
      }
    },
    {
      "cell_type": "markdown",
      "source": [
        "Answer 8\n",
        "\n",
        "logging.disable(logging.CRITICAL)"
      ],
      "metadata": {
        "id": "IZM9QKmL-u5E"
      }
    },
    {
      "cell_type": "markdown",
      "source": [
        "Answer 8\n",
        "\n",
        ".Granular control: The logging module provides different levels of severity (DEBUG, INFO, WARNING, ERROR, CRITICAL) that allow you to selectively enable or disable specific types of log messages. This gives you fine-grained control over the verbosity of your program's output. In contrast, using print statements would require manual removal or commenting out of individual print statements to control the output.\n",
        "\n",
        "Configurability: The logging module allows you to configure various aspects of logging, such as output format, log file destinations, log rotation, and more. This configurability provides flexibility to adapt logging to different environments and requirements. On the other hand, print statements offer limited customization options and lack the built-in features of the logging module.\n",
        "\n",
        "Logging levels: With logging, you can assign different levels to log messages based on their importance or severity. This allows you to prioritize and filter the output based on your needs. For example, during development, you might set the logging level to DEBUG to see detailed information, while in production, you can set it to a higher level like INFO to reduce noise. With print statements, you don't have a built-in mechanism to control message importance or filter the output based on different levels.\n",
        "\n",
        "Integration with existing logging infrastructure: The logging module integrates well with existing logging frameworks and libraries, making it easier to work within a larger logging ecosystem. It can be integrated with tools like log analyzers, log aggregators, and monitoring systems. Using print statements would require custom implementations for such integrations.\n",
        "\n",
        "Efficient performance: Logging messages have the advantage of being more efficient than print statements, especially when logging is disabled or set to a high level. The logging module is designed to handle logging efficiently, including features like lazy evaluation of log messages and optimized handling of disabled log levels. In contrast, print statements are always executed, regardless of whether the output is needed or not, potentially impacting performance."
      ],
      "metadata": {
        "id": "FjOMwJ_I-4bw"
      }
    },
    {
      "cell_type": "markdown",
      "source": [
        "Answer 9\n",
        "\n",
        "Step Over: The Step Over button allows you to execute the current line of code and move to the next line in a single step. If there is a function call on the current line, the debugger will execute the entire function without pausing, treating it as a single step. This allows you to skip over the details of the function and focus on the high-level flow of the program. It is useful when you want to quickly move forward in the code without delving into the internal workings of functions.\n",
        "\n",
        "Step In: The Step In button allows you to move into the next line of code, including stepping into function calls. If there is a function call on the current line, the debugger will pause at the first line of the called function, allowing you to step through its execution. This is helpful when you want to closely examine the behavior of a specific function or understand the inner workings of a particular code segment.\n",
        "\n",
        "Step Out: The Step Out button allows you to execute the remaining lines of the current function and return to the calling function. If you are currently debugging inside a function, the debugger will execute the remaining lines of that function and pause at the line where the function was called. This is useful when you have stepped into a function using Step In and want to quickly return to the higher-level context without stepping through the entire function."
      ],
      "metadata": {
        "id": "vily1J_2--7X"
      }
    },
    {
      "cell_type": "markdown",
      "source": [
        "Answer 10\n",
        "\n",
        "he program completes its execution.\n",
        "An exception or error occurs, causing the program to halt.\n",
        "A breakpoint is encountered, which will pause the program's execution at the specified location.\n",
        "The debugger is manually paused or stopped by the user.\n",
        "Until one of these events occurs, the debugger will not automatically stop or pause the program's execution."
      ],
      "metadata": {
        "id": "ZO2mZK0m_UHJ"
      }
    },
    {
      "cell_type": "markdown",
      "source": [
        "Answer 11\n",
        "\n",
        "A breakpoint is a designated point in the code where the debugger will pause the program's execution during debugging. It allows you to stop the program at a specific line or a specific condition to inspect variables, step through the code, and analyze the program's state at that particular point.\n",
        "By setting breakpoints, you can interrupt the normal flow of the program at specific locations to examine the values of variables, verify if conditions are met, and analyze the program's behavior at that particular moment. This enables you to gain insights into the program's execution and identify potential issues or unexpected behaviors.\n",
        "\n",
        "Breakpoints can be set at specific lines of code, usually by clicking on the left margin of the code editor in the integrated development environment (IDE). They can also be conditional, meaning they will only pause the program if a certain condition is met. Breakpoints provide a powerful tool for interactive debugging, allowing you to analyze the program's behavior step-by-step and troubleshoot issues more effectively."
      ],
      "metadata": {
        "id": "N_J0eQQ2_Vht"
      }
    }
  ]
}