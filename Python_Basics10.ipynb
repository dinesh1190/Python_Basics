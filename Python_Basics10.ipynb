{
  "nbformat": 4,
  "nbformat_minor": 0,
  "metadata": {
    "colab": {
      "provenance": [],
      "authorship_tag": "ABX9TyPAIFAraiolIDpSfhnj08Tn",
      "include_colab_link": true
    },
    "kernelspec": {
      "name": "python3",
      "display_name": "Python 3"
    },
    "language_info": {
      "name": "python"
    }
  },
  "cells": [
    {
      "cell_type": "markdown",
      "metadata": {
        "id": "view-in-github",
        "colab_type": "text"
      },
      "source": [
        "<a href=\"https://colab.research.google.com/github/dinesh1190/Python_Basics/blob/main/Python_Basics10.ipynb\" target=\"_parent\"><img src=\"https://colab.research.google.com/assets/colab-badge.svg\" alt=\"Open In Colab\"/></a>"
      ]
    },
    {
      "cell_type": "markdown",
      "source": [
        "Answer 1\n",
        "\n",
        "\n",
        "**shutil.copy():**\n",
        "\n",
        "Purpose:\n",
        " shutil.copy() is used to copy individual files from a source location to a destination location.\n",
        "\n",
        "\n",
        "Syntax: shutil.copy(src, dst, *, follow_symlinks=True)\n",
        "\n",
        "Parameters:\n",
        "\n",
        "src: The path to the source file (including the filename).\n",
        "dst: The path to the destination directory where the file will be copied.\n",
        "follow_symlinks (optional): If set to True (default), symbolic links will be followed during the copy.\n",
        "\n",
        "\n",
        "**shutil.copytree():**\n",
        "\n",
        "Purpose: shutil.copytree() is used to recursively copy an entire directory tree (including subdirectories and files) from a source location to a destination location.\n",
        "\n",
        "\n",
        "Syntax:\n",
        "\n",
        "shutil.copytree(src, dst, symlinks=False, ignore=None, copy_function=copy2, *, ignore_dangling_symlinks=False)\n",
        "\n",
        "\n",
        "Parameters:\n",
        "\n",
        "src: The path to the source directory.\n",
        "dst: The path to the destination directory where the directory tree will be copied.\n",
        "symlinks (optional): If set to True, symbolic links are copied as links instead of copying the file or directory they point to (default is False).\n",
        "ignore (optional): A function that takes a directory name and filenames and returns a list of names to ignore during the copy process (default is None).\n",
        "copy_function (optional): A function used to copy files (default is shutil.copy2, which preserves file metadata).\n",
        "ignore_dangling_symlinks (optional): If set to True, dangling symbolic links (links that point to non-existent files or directories) are ignored (default is False)."
      ],
      "metadata": {
        "id": "cms89bSS6D0k"
      }
    },
    {
      "cell_type": "code",
      "source": [
        "Answer 2\n",
        "\n",
        "import os\n",
        "\n",
        "# Specify the current file path and name\n",
        "current_path = 'path/to/current/file.txt'\n",
        "\n",
        "# Specify the new file name\n",
        "new_name = 'new_file_name.txt'\n",
        "\n",
        "# Rename the file\n",
        "os.rename(current_path, new_name)"
      ],
      "metadata": {
        "id": "FKX244MP6gv_"
      },
      "execution_count": null,
      "outputs": []
    },
    {
      "cell_type": "markdown",
      "source": [
        "Answer 3\n",
        "\n",
        "**send2trash module:**\n",
        "\n",
        "Purpose: The send2trash module provides a safe way to delete files or directories by sending them to the operating system's recycle bin/trash rather than permanently deleting them.\n",
        "Function: send2trash.send2trash(path)\n",
        "Parameter:\n",
        "path: The path to the file or directory that you want to delete.\n",
        "\n",
        "**shutil module:**\n",
        "\n",
        "Purpose: The shutil module provides functions for file and directory operations, including deletion.\n",
        "Function: shutil.rmtree(path, ignore_errors=False, onerror=None)\n",
        "Parameters:\n",
        "path: The path to the directory that you want to delete.\n",
        "ignore_errors (optional): If set to True, any errors encountered during the deletion process are ignored (default is False).\n",
        "onerror (optional): A function that specifies how to handle errors during the deletion process (default is None)."
      ],
      "metadata": {
        "id": "0YSf2M1l6sJY"
      }
    },
    {
      "cell_type": "markdown",
      "source": [
        "Answer 4\n",
        "\n",
        "he equivalent method in the ZipFile class to the open() method in file objects is ZipFile.open(). It allows you to open and read the contents of a file within a ZIP archive."
      ],
      "metadata": {
        "id": "jMAl3UTj661q"
      }
    },
    {
      "cell_type": "code",
      "source": [
        "Answer 5\n",
        "\n",
        "import os\n",
        "import shutil\n",
        "\n",
        "def copy_files_with_extension(source_folder, destination_folder, extension):\n",
        "    for root, dirs, files in os.walk(source_folder):\n",
        "        for file in files:\n",
        "            if file.endswith(extension):\n",
        "                source_path = os.path.join(root, file)\n",
        "                destination_path = os.path.join(destination_folder, file)\n",
        "                shutil.copy2(source_path, destination_path)\n",
        "                print(f\"Copied {file} to {destination_folder}\")\n",
        "\n",
        "# Specify the source folder to search\n",
        "source_folder = 'path/to/source/folder'\n",
        "\n",
        "# Specify the destination folder to copy the files\n",
        "destination_folder = 'path/to/destination/folder'\n",
        "\n",
        "# Specify the file extension to search for\n",
        "extension = '.pdf'\n",
        "\n",
        "# Call the function to copy the files\n",
        "copy_files_with_extension(source_folder, destination_folder, extension)"
      ],
      "metadata": {
        "id": "OvRFDe4p7Fc3"
      },
      "execution_count": 2,
      "outputs": []
    }
  ]
}