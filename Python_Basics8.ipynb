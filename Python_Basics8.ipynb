{
  "nbformat": 4,
  "nbformat_minor": 0,
  "metadata": {
    "colab": {
      "provenance": [],
      "authorship_tag": "ABX9TyNzJM/Wadp+twmSkMWJA1Em",
      "include_colab_link": true
    },
    "kernelspec": {
      "name": "python3",
      "display_name": "Python 3"
    },
    "language_info": {
      "name": "python"
    }
  },
  "cells": [
    {
      "cell_type": "markdown",
      "metadata": {
        "id": "view-in-github",
        "colab_type": "text"
      },
      "source": [
        "<a href=\"https://colab.research.google.com/github/dinesh1190/Python_Basics/blob/main/Python_Basics8.ipynb\" target=\"_parent\"><img src=\"https://colab.research.google.com/assets/colab-badge.svg\" alt=\"Open In Colab\"/></a>"
      ]
    },
    {
      "cell_type": "markdown",
      "source": [
        "Answer 1\n",
        "\n",
        "\n",
        "No, the Python Standard Library is not included with PyInputPlus. PyInputPlus is a separate third-party library that provides additional functionality for taking user input in Python, such as input validation, default values, and timeout handling.\n",
        "\n",
        "The Python Standard Library, on the other hand, is a collection of modules that are included with Python by default. It provides a wide range of functionality and tools for various purposes, including file I/O, regular expressions, networking, data processing, and more.\n",
        "\n",
        "While both PyInputPlus and the Python Standard Library are useful for different purposes, PyInputPlus is not part of the Python Standard Library itself. To use PyInputPlus, you need to install it separately using tools like pip."
      ],
      "metadata": {
        "id": "-Y_-ytgfx7ya"
      }
    },
    {
      "cell_type": "markdown",
      "source": [
        "Answer 2\n",
        "\n",
        "PyInputPlus is commonly imported with import pyinputplus as pypi to provide a shorter and more convenient alias for the module name.\n",
        "\n",
        "Using import pyinputplus as pypi allows you to refer to the PyInputPlus module using the shorter alias pypi. This can make the code more concise and easier to read, especially if you need to use PyInputPlus functions or classes multiple times within your code.\n",
        "\n",
        "By using the alias pypi, you can then access PyInputPlus functions and classes using the pypi prefix. For example, instead of writing pyinputplus.inputInt(), you can write pypi.inputInt(). It helps to reduce typing and makes the code more readable."
      ],
      "metadata": {
        "id": "Z2fpB3wZyHSG"
      }
    },
    {
      "cell_type": "markdown",
      "source": [
        "Answer 3\n",
        "\n",
        "\n",
        "**inputInt() function:** This function is used to prompt the user to enter an integer value. It validates the input to ensure that the user enters a valid integer. If the user enters a value that cannot be converted to an integer, it will reprompt the user until a valid integer is provided. The function returns an integer value.\n",
        "\n",
        "**inputFloat() function:** This function is used to prompt the user to enter a floating-point value. It validates the input to ensure that the user enters a valid float. If the user enters a value that cannot be converted to a float, it will reprompt the user until a valid float is provided. The function returns a float value."
      ],
      "metadata": {
        "id": "c7bY1fRyyQSl"
      }
    },
    {
      "cell_type": "markdown",
      "source": [
        "Answer 4\n",
        "\n",
        "\n",
        "To ensure that the user enters a whole number between 0 and 99 using PyInputPlus, you can utilize the inputInt() function with additional arguments to enforce the desired constraints."
      ],
      "metadata": {
        "id": "7vMU85Bhyhad"
      }
    },
    {
      "cell_type": "markdown",
      "source": [
        "Answer 5\n",
        "\n",
        "\n",
        "In PyInputPlus, the allowRegexes and blockRegexes keyword arguments are used to specify regular expressions that control the allowed and blocked input patterns, respectively. These arguments are used in various PyInputPlus functions to define patterns that restrict or allow user input.\n",
        "\n",
        "Here's a brief explanation of each keyword argument:\n",
        "\n",
        "allowRegexes: This keyword argument accepts a list of regular expressions. Only the inputs that match at least one of the regular expressions in the allowRegexes list will be considered valid and allowed. Inputs that don't match any of the regular expressions will be rejected.\n",
        "\n",
        "blockRegexes: This keyword argument also accepts a list of regular expressions. Inputs that match any of the regular expressions in the blockRegexes list will be considered invalid and blocked. Inputs that match any of the blocked patterns will be rejected, regardless of whether they match the allowed patterns or not."
      ],
      "metadata": {
        "id": "RU_nF39uyohq"
      }
    },
    {
      "cell_type": "markdown",
      "source": [
        "Answer 6\n",
        "\n",
        "If a blank input is entered three times when using inputStr(limit=3), the function will raise a pyinputplus.RetryLimitException exception. This exception is raised when the maximum number of retries or attempts specified by the limit argument is reached."
      ],
      "metadata": {
        "id": "kCgMeqTCywT5"
      }
    },
    {
      "cell_type": "markdown",
      "source": [
        "Answer 7\n",
        "\n",
        "\n",
        "If a blank input is entered three times when using inputStr(limit=3, default='hello'), the inputStr() function will return the default value 'hello' instead of raising an exception."
      ],
      "metadata": {
        "id": "SpQx7X4tzsoZ"
      }
    }
  ]
}