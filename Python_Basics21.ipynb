{
  "nbformat": 4,
  "nbformat_minor": 0,
  "metadata": {
    "colab": {
      "provenance": [],
      "authorship_tag": "ABX9TyOh7tqhkVTRls6cGu7YZlRn",
      "include_colab_link": true
    },
    "kernelspec": {
      "name": "python3",
      "display_name": "Python 3"
    },
    "language_info": {
      "name": "python"
    }
  },
  "cells": [
    {
      "cell_type": "markdown",
      "metadata": {
        "id": "view-in-github",
        "colab_type": "text"
      },
      "source": [
        "<a href=\"https://colab.research.google.com/github/dinesh1190/Python_Basics/blob/main/Python_Basics21.ipynb\" target=\"_parent\"><img src=\"https://colab.research.google.com/assets/colab-badge.svg\" alt=\"Open In Colab\"/></a>"
      ]
    },
    {
      "cell_type": "code",
      "execution_count": 1,
      "metadata": {
        "id": "66exh2tyjnne"
      },
      "outputs": [],
      "source": [
        "Answer 1\n",
        "\n",
        "\n",
        "import datetime\n",
        "\n",
        "# Get the current date as a string\n",
        "current_date = datetime.datetime.now().strftime(\"%Y-%m-%d\")\n",
        "\n",
        "# Write the current date to the file\n",
        "with open(\"today.txt\", \"w\") as file:\n",
        "    file.write(current_date)"
      ]
    },
    {
      "cell_type": "code",
      "source": [
        "Answer 2\n",
        "\n",
        "# Read the contents of the file into a string\n",
        "with open(\"today.txt\", \"r\") as file:\n",
        "    today_string = file.read()\n",
        "\n",
        "print(today_string)"
      ],
      "metadata": {
        "colab": {
          "base_uri": "https://localhost:8080/"
        },
        "id": "tY9hLAdakVXj",
        "outputId": "e4646c63-c8ac-481a-9caa-11f344a0718a"
      },
      "execution_count": 2,
      "outputs": [
        {
          "output_type": "stream",
          "name": "stdout",
          "text": [
            "2023-07-14\n"
          ]
        }
      ]
    },
    {
      "cell_type": "code",
      "source": [
        "Answer 3\n",
        "\n",
        "\n",
        "import datetime\n",
        "\n",
        "# Assuming today_string contains the date string\n",
        "date_object = datetime.datetime.strptime(today_string, \"%Y-%m-%d\").date()\n",
        "print(date_object)"
      ],
      "metadata": {
        "colab": {
          "base_uri": "https://localhost:8080/"
        },
        "id": "Oq5EbgUDkgzx",
        "outputId": "6856a800-3434-423a-aa74-dba39d8c0e0e"
      },
      "execution_count": 3,
      "outputs": [
        {
          "output_type": "stream",
          "name": "stdout",
          "text": [
            "2023-07-14\n"
          ]
        }
      ]
    },
    {
      "cell_type": "code",
      "source": [
        "Answer 4\n",
        "\n",
        "\n",
        "import os\n",
        "\n",
        "current_directory = os.getcwd()  # Get the current directory\n",
        "\n",
        "file_list = os.listdir(current_directory)  # Get the list of files in the directory\n",
        "\n",
        "for file in file_list:\n",
        "    print(file)"
      ],
      "metadata": {
        "colab": {
          "base_uri": "https://localhost:8080/"
        },
        "id": "0Sa2EGrWkliY",
        "outputId": "9c9d567a-b0e6-4eed-83e2-89ea958f85b7"
      },
      "execution_count": 4,
      "outputs": [
        {
          "output_type": "stream",
          "name": "stdout",
          "text": [
            ".config\n",
            "today.txt\n",
            "sample_data\n"
          ]
        }
      ]
    },
    {
      "cell_type": "code",
      "source": [
        "Answer 5\n",
        "\n",
        "\n",
        "import os\n",
        "\n",
        "parent_directory = os.path.dirname(os.getcwd())  # Get the parent directory\n",
        "\n",
        "file_list = os.listdir(parent_directory)  # Get the list of files in the directory\n",
        "\n",
        "for file in file_list:\n",
        "    print(file)"
      ],
      "metadata": {
        "colab": {
          "base_uri": "https://localhost:8080/"
        },
        "id": "vjFl1CH3kq5d",
        "outputId": "376ef555-235f-469a-da9c-77c19d7c2493"
      },
      "execution_count": 5,
      "outputs": [
        {
          "output_type": "stream",
          "name": "stdout",
          "text": [
            "lib64\n",
            "home\n",
            "dev\n",
            "var\n",
            "lib32\n",
            "usr\n",
            "root\n",
            "libx32\n",
            "proc\n",
            "media\n",
            "mnt\n",
            "sbin\n",
            "srv\n",
            "lib\n",
            "etc\n",
            "opt\n",
            "run\n",
            "bin\n",
            "sys\n",
            "boot\n",
            "tmp\n",
            "content\n",
            ".dockerenv\n",
            "tools\n",
            "datalab\n",
            "python-apt\n",
            "NGC-DL-CONTAINER-LICENSE\n"
          ]
        }
      ]
    },
    {
      "cell_type": "code",
      "source": [
        "Answer 6\n",
        "\n",
        "import multiprocessing\n",
        "import random\n",
        "import time\n",
        "from datetime import datetime\n",
        "\n",
        "def process_func():\n",
        "    wait_time = random.randint(1, 5)  # Generate random wait time between 1 and 5 seconds\n",
        "    time.sleep(wait_time)  # Wait for the specified time\n",
        "    current_time = datetime.now().strftime(\"%H:%M:%S\")  # Get the current time\n",
        "    print(\"Current time:\", current_time)  # Print the current time\n",
        "\n",
        "if __name__ == '__main__':\n",
        "    processes = []\n",
        "\n",
        "    for _ in range(3):\n",
        "        process = multiprocessing.Process(target=process_func)\n",
        "        process.start()\n",
        "        processes.append(process)\n",
        "\n",
        "    for process in processes:\n",
        "        process.join()"
      ],
      "metadata": {
        "colab": {
          "base_uri": "https://localhost:8080/"
        },
        "id": "KZfK_c4ukyJ0",
        "outputId": "edeb018d-83b5-4bd4-c70e-78e9180fd1a9"
      },
      "execution_count": 6,
      "outputs": [
        {
          "output_type": "stream",
          "name": "stdout",
          "text": [
            "Current time: 13:24:40\n",
            "Current time: 13:24:42\n",
            "Current time: 13:24:45\n"
          ]
        }
      ]
    },
    {
      "cell_type": "code",
      "source": [
        "Answer 7\n",
        "\n",
        "import datetime\n",
        "\n",
        "birth_date = datetime.date(1990, 5, 15)  # Replace with your actual birth date\n",
        "\n",
        "print(birth_date)"
      ],
      "metadata": {
        "colab": {
          "base_uri": "https://localhost:8080/"
        },
        "id": "2AW94LC_k30X",
        "outputId": "fc50ce0d-a326-49d8-e7cd-18019bbf8f75"
      },
      "execution_count": 7,
      "outputs": [
        {
          "output_type": "stream",
          "name": "stdout",
          "text": [
            "1990-05-15\n"
          ]
        }
      ]
    },
    {
      "cell_type": "code",
      "source": [
        "Answer 8\n",
        "\n",
        "import datetime\n",
        "\n",
        "birth_date = datetime.date(1990, 5, 15)  # Replace with your actual birth date\n",
        "\n",
        "day_of_week = birth_date.strftime(\"%A\")\n",
        "\n",
        "print(day_of_week)"
      ],
      "metadata": {
        "colab": {
          "base_uri": "https://localhost:8080/"
        },
        "id": "OHgUe2usk8O3",
        "outputId": "640af349-8e4d-4390-8f53-44a06000e811"
      },
      "execution_count": 8,
      "outputs": [
        {
          "output_type": "stream",
          "name": "stdout",
          "text": [
            "Tuesday\n"
          ]
        }
      ]
    },
    {
      "cell_type": "code",
      "source": [
        "Answer 9\n",
        "\n",
        "import datetime\n",
        "\n",
        "birth_date = datetime.date(1990, 5, 15)  # Replace with your actual birth date\n",
        "days_to_add = 10000\n",
        "\n",
        "future_date = birth_date + datetime.timedelta(days=days_to_add)\n",
        "\n",
        "print(future_date)"
      ],
      "metadata": {
        "colab": {
          "base_uri": "https://localhost:8080/"
        },
        "id": "fOPAW63blDaS",
        "outputId": "75655dfb-34d5-4b10-d151-70b60ef72c0e"
      },
      "execution_count": 9,
      "outputs": [
        {
          "output_type": "stream",
          "name": "stdout",
          "text": [
            "2017-09-30\n"
          ]
        }
      ]
    },
    {
      "cell_type": "code",
      "source": [],
      "metadata": {
        "id": "pJ7DwFOZlF6i"
      },
      "execution_count": null,
      "outputs": []
    }
  ]
}