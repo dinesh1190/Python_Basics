{
  "nbformat": 4,
  "nbformat_minor": 0,
  "metadata": {
    "colab": {
      "provenance": [],
      "authorship_tag": "ABX9TyMOY0gbWsuDKAVnmFCsjve1",
      "include_colab_link": true
    },
    "kernelspec": {
      "name": "python3",
      "display_name": "Python 3"
    },
    "language_info": {
      "name": "python"
    }
  },
  "cells": [
    {
      "cell_type": "markdown",
      "metadata": {
        "id": "view-in-github",
        "colab_type": "text"
      },
      "source": [
        "<a href=\"https://colab.research.google.com/github/dinesh1190/Python_Basics/blob/main/Python_Basics4.ipynb\" target=\"_parent\"><img src=\"https://colab.research.google.com/assets/colab-badge.svg\" alt=\"Open In Colab\"/></a>"
      ]
    },
    {
      "cell_type": "markdown",
      "source": [
        "####**Answer 1**\n",
        "\n",
        "[] represents an empty list. It is a literal notation used to define a list data structure with no elements."
      ],
      "metadata": {
        "id": "gQ-Hxw5HeCEg"
      }
    },
    {
      "cell_type": "code",
      "execution_count": 2,
      "metadata": {
        "id": "mqIZGABndyia"
      },
      "outputs": [],
      "source": [
        "Answer 2\n",
        "spam = [2, 4, 6, 8, 10]\n",
        "spam[2] = 'hello'"
      ]
    },
    {
      "cell_type": "code",
      "source": [
        "Answer 3\n",
        "spam = ['a','b','c','d']\n",
        "spam[int(int('3' * 2) / 11)]"
      ],
      "metadata": {
        "colab": {
          "base_uri": "https://localhost:8080/",
          "height": 36
        },
        "id": "A5ZYbxoqfA0t",
        "outputId": "b35cb3a2-e98d-482e-af88-5f7577403c26"
      },
      "execution_count": 3,
      "outputs": [
        {
          "output_type": "execute_result",
          "data": {
            "text/plain": [
              "'d'"
            ],
            "application/vnd.google.colaboratory.intrinsic+json": {
              "type": "string"
            }
          },
          "metadata": {},
          "execution_count": 3
        }
      ]
    },
    {
      "cell_type": "code",
      "source": [
        "Answer 4\n",
        "spam = ['a','b','c','d']\n",
        "spam[-1]"
      ],
      "metadata": {
        "colab": {
          "base_uri": "https://localhost:8080/",
          "height": 36
        },
        "id": "vr9A0kolf-zU",
        "outputId": "8bbb9a8d-4afe-4974-f436-b6607592edc7"
      },
      "execution_count": 4,
      "outputs": [
        {
          "output_type": "execute_result",
          "data": {
            "text/plain": [
              "'d'"
            ],
            "application/vnd.google.colaboratory.intrinsic+json": {
              "type": "string"
            }
          },
          "metadata": {},
          "execution_count": 4
        }
      ]
    },
    {
      "cell_type": "code",
      "source": [
        "Answer 5\n",
        "spam = ['a','b','c','d']\n",
        "spam[:2]"
      ],
      "metadata": {
        "colab": {
          "base_uri": "https://localhost:8080/"
        },
        "id": "SClSWEfbgD_L",
        "outputId": "13df08c4-187c-438c-fab6-d3382b6babdd"
      },
      "execution_count": 6,
      "outputs": [
        {
          "output_type": "execute_result",
          "data": {
            "text/plain": [
              "['a', 'b']"
            ]
          },
          "metadata": {},
          "execution_count": 6
        }
      ]
    },
    {
      "cell_type": "code",
      "source": [
        "Answer 6\n",
        "bacon = [3.14, 'cat', 11, 'cat', True]\n",
        "index = bacon.index('cat')\n",
        "print(index)"
      ],
      "metadata": {
        "colab": {
          "base_uri": "https://localhost:8080/"
        },
        "id": "duory4KvgXLQ",
        "outputId": "143c28d9-aa18-456a-a7b8-310d1b8f1233"
      },
      "execution_count": 18,
      "outputs": [
        {
          "output_type": "stream",
          "name": "stdout",
          "text": [
            "1\n"
          ]
        }
      ]
    },
    {
      "cell_type": "code",
      "source": [
        "Answer 7\n",
        "bacon = [3.14, 'cat', 11, 'cat', True]\n",
        "bacon.append(99)\n",
        "print(bacon)"
      ],
      "metadata": {
        "colab": {
          "base_uri": "https://localhost:8080/"
        },
        "id": "rEkG5KggiOxS",
        "outputId": "3dfc699f-8888-4a11-adbd-65af05c01238"
      },
      "execution_count": 20,
      "outputs": [
        {
          "output_type": "stream",
          "name": "stdout",
          "text": [
            "[3.14, 'cat', 11, 'cat', True, 99]\n"
          ]
        }
      ]
    },
    {
      "cell_type": "code",
      "source": [
        "Answer 8\n",
        "bacon = [3.14, 'cat', 11, 'cat', True]\n",
        "bacon.remove('cat')\n",
        "print(bacon)"
      ],
      "metadata": {
        "colab": {
          "base_uri": "https://localhost:8080/"
        },
        "id": "Ak0QVb6Ri1g9",
        "outputId": "5c238d5d-6d5f-4e49-f992-788e26d47d62"
      },
      "execution_count": 21,
      "outputs": [
        {
          "output_type": "stream",
          "name": "stdout",
          "text": [
            "[3.14, 11, 'cat', True]\n"
          ]
        }
      ]
    },
    {
      "cell_type": "markdown",
      "source": [
        "####**Answer 9**\n",
        "\n",
        "the list concatenation operator is +, and the list replication operator is *. These operators allow you to perform concatenation and replication operations on lists."
      ],
      "metadata": {
        "id": "I7fK6_mZjr5j"
      }
    },
    {
      "cell_type": "markdown",
      "source": [
        "####**Answer 10**\n",
        "\n",
        "**append() method:**\n",
        "\n",
        "The append() method is used to add an element to the end of a list.\n",
        "It takes a single argument, which is the value to be added.\n",
        "The element is appended to the list, meaning it is placed at the end.\n",
        "\n",
        "**insert() method:**\n",
        "\n",
        "The insert() method is used to add an element at a specific position within a list.\n",
        "It takes two arguments: the index where the element should be inserted and the value to be added.\n",
        "The element is inserted at the specified index, and the existing elements are shifted to accommodate the new element."
      ],
      "metadata": {
        "id": "ICMv6-DxlDvE"
      }
    },
    {
      "cell_type": "markdown",
      "source": [
        "####**Answer 11**\n",
        "\n",
        "**remove() method:**\n",
        "\n",
        "**pop() method:**\n"
      ],
      "metadata": {
        "id": "xO2Q3v4EmMA4"
      }
    },
    {
      "cell_type": "markdown",
      "source": [
        "####**Answer 12**\n",
        "\n",
        "**Sequences:** Both lists and strings are examples of sequence data types in Python. They allow multiple values to be stored and accessed in a specific order.\n",
        "\n",
        "**Indexing:** Both lists and strings support indexing, meaning individual elements or characters can be accessed using their position within the sequence. Indexing starts at 0, so the first element or character is at index 0, the second is at index 1, and so on.\n",
        "\n",
        "**Slicing:** Lists and strings both support slicing, which allows you to extract a portion of the sequence by specifying a range of indices. This creates a new list or string containing the selected elements or characters.\n",
        "\n",
        "**Iteration:** You can iterate over both lists and strings using loops, such as for loops, to process each element or character one by one.\n",
        "\n",
        "**Length:** Both lists and strings have a length, which represents the number of elements or characters they contain. You can obtain the length using the len() function."
      ],
      "metadata": {
        "id": "biOPhHTAm-bn"
      }
    },
    {
      "cell_type": "markdown",
      "source": [
        "####**Answer 13**\n",
        "\n",
        "**Mutability:** Tuples are immutable, meaning their elements cannot be modified once they are defined. In contrast, lists are mutable, allowing you to change, add, or remove elements.\n",
        "\n",
        "**Syntax:** Tuples are defined using parentheses () or without any delimiters if the context allows. For example, (1, 2, 3) or simply 1, 2, 3 are valid tuple representations. Lists, on the other hand, are defined using square brackets []. For example, [1, 2, 3] is a valid list representation.\n",
        "\n",
        "**Usage:** Tuples are typically used to represent collections of related items where immutability is desired, such as coordinates, settings, or records. Lists, on the other hand, are more versatile and commonly used when you need a mutable ordered collection of items.\n",
        "\n",
        "**Element Modification:** Since tuples are immutable, you cannot modify individual elements. If you need to change a tuple, you have to create a new tuple with the desired elements. Lists allow direct modification of individual elements by assigning new values to specific indices.\n",
        "\n",
        "**Operations:** Both tuples and lists support common operations like indexing, slicing, and iteration. However, since lists are mutable, they have additional methods and operations specific to modifying, appending, or removing elements. Tuples lack these methods as they are immutable.\n",
        "\n",
        "**Performance:** Tuples are generally more lightweight and efficient in terms of memory usage and performance compared to lists. If you have a collection of elements that won't change, using tuples can be more efficient."
      ],
      "metadata": {
        "id": "L4tXyGT6nlOW"
      }
    },
    {
      "cell_type": "code",
      "source": [
        "Answer 14\n",
        "ab_tuple = (42,)\n"
      ],
      "metadata": {
        "id": "Tw2XggwPofd5"
      },
      "execution_count": 24,
      "outputs": []
    },
    {
      "cell_type": "code",
      "source": [
        "Answer 15\n",
        "my_list = [1, 2, 3, 4, 5]\n",
        "my_tuple = tuple(my_list)\n",
        "print(my_tuple)"
      ],
      "metadata": {
        "colab": {
          "base_uri": "https://localhost:8080/"
        },
        "id": "vMlvbjudrCur",
        "outputId": "61a04a5a-d2ce-4e0a-d75c-96791f2f78e9"
      },
      "execution_count": 25,
      "outputs": [
        {
          "output_type": "stream",
          "name": "stdout",
          "text": [
            "(1, 2, 3, 4, 5)\n"
          ]
        }
      ]
    },
    {
      "cell_type": "code",
      "source": [
        "my_tuple = (1, 2, 3, 4, 5)\n",
        "my_list = list(my_tuple)\n",
        "print(my_list)"
      ],
      "metadata": {
        "colab": {
          "base_uri": "https://localhost:8080/"
        },
        "id": "wJfMRw-7rGVX",
        "outputId": "cafe016d-1e56-469a-87e1-9a3f8d40a653"
      },
      "execution_count": 26,
      "outputs": [
        {
          "output_type": "stream",
          "name": "stdout",
          "text": [
            "[1, 2, 3, 4, 5]\n"
          ]
        }
      ]
    },
    {
      "cell_type": "markdown",
      "source": [
        "####**Answer16**\n",
        "\n",
        "variables are references or labels that point to objects in memory. When you assign a list to a variable, the variable holds a reference to the memory location where the list object is stored. This means that the variable does not store the list directly, but rather stores a reference to the list's location in memory."
      ],
      "metadata": {
        "id": "4kgXQH4rsQxE"
      }
    },
    {
      "cell_type": "markdown",
      "source": [
        "####**Answer 17**\n",
        "\n",
        "**copy.copy() (Shallow Copy):**\n",
        "\n",
        "The copy.copy() function creates a shallow copy of an object.\n",
        "Shallow copy means that a new object is created, but the contents of the object are still references to the original elements.\n",
        "\n",
        "**copy.deepcopy() (Deep Copy):**\n",
        "\n",
        "The copy.deepcopy() function creates a deep copy of an object.\n",
        "Deep copy means that a completely independent copy of the object and its contents is created."
      ],
      "metadata": {
        "id": "_CbvJrM5stEh"
      }
    }
  ]
}