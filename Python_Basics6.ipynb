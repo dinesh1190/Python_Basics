{
  "nbformat": 4,
  "nbformat_minor": 0,
  "metadata": {
    "colab": {
      "provenance": [],
      "authorship_tag": "ABX9TyNv6JnFnnq1semDuoRHbIVE",
      "include_colab_link": true
    },
    "kernelspec": {
      "name": "python3",
      "display_name": "Python 3"
    },
    "language_info": {
      "name": "python"
    }
  },
  "cells": [
    {
      "cell_type": "markdown",
      "metadata": {
        "id": "view-in-github",
        "colab_type": "text"
      },
      "source": [
        "<a href=\"https://colab.research.google.com/github/dinesh1190/Python_Basics/blob/main/Python_Basics6.ipynb\" target=\"_parent\"><img src=\"https://colab.research.google.com/assets/colab-badge.svg\" alt=\"Open In Colab\"/></a>"
      ]
    },
    {
      "cell_type": "markdown",
      "source": [
        "####**Answer 1**\n",
        "\n",
        "Newline (\\n): It represents a line break and is used to start a new line in a string.\n",
        "Example:\n",
        "\n",
        "Tab (\\t): It represents a horizontal tab and is used to create indentation or spacing in a string.\n",
        "\n",
        "Backslash (\\): It represents a single backslash character.\n",
        "\n",
        "Single Quote ('): It represents a single quote character and is used when you want to include a single quote within a string that is enclosed in single quotes.\n",
        "\n",
        "Double Quote (\"): It represents a double quote character and is used when you want to include a double quote within a string that is enclosed in double quotes.\n",
        "\n"
      ],
      "metadata": {
        "id": "_8SH3iRCNCbq"
      }
    },
    {
      "cell_type": "markdown",
      "source": [
        "####**Answer 2**\n",
        "\n",
        "Newline (\\n): It represents a line break and is used to start a new line in a string. Example:\n",
        "\n",
        "Tab (\\t): It represents a horizontal tab and is used to create indentation or spacing in a string."
      ],
      "metadata": {
        "id": "pleO9sYUNqZw"
      }
    },
    {
      "cell_type": "markdown",
      "source": [
        "####**Answer 3**\n",
        "\n",
        "\n",
        "Backslash (\\): It represents a single backslash character.\n",
        "\n",
        "**Example:**\n",
        "\n",
        "print(\"This is a backslash: \\\\\")\n",
        "\n",
        "**Output:**\n",
        "\n",
        "This is a backslash: \\"
      ],
      "metadata": {
        "id": "x5Q-jRb8OCQR"
      }
    },
    {
      "cell_type": "markdown",
      "source": [
        "####**Answer 4**\n",
        "\n",
        "In the above code, the single quote within the word \"Howl's\" is treated as a regular character and is not mistaken as the end of the string. Hence, there is no need to escape it."
      ],
      "metadata": {
        "id": "876D7GdfO4cd"
      }
    },
    {
      "cell_type": "markdown",
      "source": [
        "####**Answer 5**\n",
        "\n",
        "\n",
        "We can achieve it by using triple quotes (\"\"\" or ''') to enclose the string. This is known as a multiline string literal, and it preserves the newlines as they are written in the code."
      ],
      "metadata": {
        "id": "_GfHZwpRPiMA"
      }
    },
    {
      "cell_type": "code",
      "source": [
        "Answer 6\n",
        "'Hello, world!'[1]"
      ],
      "metadata": {
        "colab": {
          "base_uri": "https://localhost:8080/",
          "height": 36
        },
        "id": "eBfMPniLP1cA",
        "outputId": "95634fa0-fa8b-4685-ca3f-e816f62b31ac"
      },
      "execution_count": 1,
      "outputs": [
        {
          "output_type": "execute_result",
          "data": {
            "text/plain": [
              "'e'"
            ],
            "application/vnd.google.colaboratory.intrinsic+json": {
              "type": "string"
            }
          },
          "metadata": {},
          "execution_count": 1
        }
      ]
    },
    {
      "cell_type": "code",
      "source": [
        "'Hello, world!'[0:5]"
      ],
      "metadata": {
        "colab": {
          "base_uri": "https://localhost:8080/",
          "height": 36
        },
        "id": "1LWhFm0oQBuJ",
        "outputId": "f02e7d02-f70c-4174-da20-c8bd302c929c"
      },
      "execution_count": 2,
      "outputs": [
        {
          "output_type": "execute_result",
          "data": {
            "text/plain": [
              "'Hello'"
            ],
            "application/vnd.google.colaboratory.intrinsic+json": {
              "type": "string"
            }
          },
          "metadata": {},
          "execution_count": 2
        }
      ]
    },
    {
      "cell_type": "code",
      "source": [
        "'Hello, world!'[:5]"
      ],
      "metadata": {
        "colab": {
          "base_uri": "https://localhost:8080/",
          "height": 36
        },
        "id": "gGblJ8yiQall",
        "outputId": "2304a564-c3ce-4732-97c6-3238d82e7a5b"
      },
      "execution_count": 3,
      "outputs": [
        {
          "output_type": "execute_result",
          "data": {
            "text/plain": [
              "'Hello'"
            ],
            "application/vnd.google.colaboratory.intrinsic+json": {
              "type": "string"
            }
          },
          "metadata": {},
          "execution_count": 3
        }
      ]
    },
    {
      "cell_type": "code",
      "source": [
        "'Hello, world!'[3:]"
      ],
      "metadata": {
        "colab": {
          "base_uri": "https://localhost:8080/",
          "height": 36
        },
        "id": "a8wRBhKjQe5m",
        "outputId": "38184bb0-c119-4669-9956-987c52e90e12"
      },
      "execution_count": 4,
      "outputs": [
        {
          "output_type": "execute_result",
          "data": {
            "text/plain": [
              "'lo, world!'"
            ],
            "application/vnd.google.colaboratory.intrinsic+json": {
              "type": "string"
            }
          },
          "metadata": {},
          "execution_count": 4
        }
      ]
    },
    {
      "cell_type": "code",
      "source": [
        "Answer 7\n",
        "'Hello'.upper()"
      ],
      "metadata": {
        "colab": {
          "base_uri": "https://localhost:8080/",
          "height": 36
        },
        "id": "F9IQDy2PQwxE",
        "outputId": "f1df8dcf-e119-4fe6-8731-1c5ef48895fd"
      },
      "execution_count": 5,
      "outputs": [
        {
          "output_type": "execute_result",
          "data": {
            "text/plain": [
              "'HELLO'"
            ],
            "application/vnd.google.colaboratory.intrinsic+json": {
              "type": "string"
            }
          },
          "metadata": {},
          "execution_count": 5
        }
      ]
    },
    {
      "cell_type": "code",
      "source": [
        "'Hello'.upper().isupper()"
      ],
      "metadata": {
        "colab": {
          "base_uri": "https://localhost:8080/"
        },
        "id": "Gr3jHzq2Q0Xs",
        "outputId": "63f30119-a3b0-4063-c693-c6c5c6521c18"
      },
      "execution_count": 6,
      "outputs": [
        {
          "output_type": "execute_result",
          "data": {
            "text/plain": [
              "True"
            ]
          },
          "metadata": {},
          "execution_count": 6
        }
      ]
    },
    {
      "cell_type": "code",
      "source": [
        "'Hello'.upper().lower()"
      ],
      "metadata": {
        "colab": {
          "base_uri": "https://localhost:8080/",
          "height": 36
        },
        "id": "H8azNXMeQ4vS",
        "outputId": "d67fdcaf-8c65-446f-aad3-80a70c92d10e"
      },
      "execution_count": 7,
      "outputs": [
        {
          "output_type": "execute_result",
          "data": {
            "text/plain": [
              "'hello'"
            ],
            "application/vnd.google.colaboratory.intrinsic+json": {
              "type": "string"
            }
          },
          "metadata": {},
          "execution_count": 7
        }
      ]
    },
    {
      "cell_type": "code",
      "source": [
        "Answer 8\n",
        "\n",
        "'Remember, remember, the fifth of July.'.split()"
      ],
      "metadata": {
        "colab": {
          "base_uri": "https://localhost:8080/"
        },
        "id": "dhtw6jzORJgC",
        "outputId": "072e242f-84a6-48c6-9397-02fc0bc251bb"
      },
      "execution_count": 8,
      "outputs": [
        {
          "output_type": "execute_result",
          "data": {
            "text/plain": [
              "['Remember,', 'remember,', 'the', 'fifth', 'of', 'July.']"
            ]
          },
          "metadata": {},
          "execution_count": 8
        }
      ]
    },
    {
      "cell_type": "code",
      "source": [
        "\n",
        "'-'.join('There can only one.'.split())"
      ],
      "metadata": {
        "colab": {
          "base_uri": "https://localhost:8080/",
          "height": 36
        },
        "id": "lN2_1wOCRP1H",
        "outputId": "cfc32e82-4114-48fa-bcbb-c611f2df3db6"
      },
      "execution_count": 9,
      "outputs": [
        {
          "output_type": "execute_result",
          "data": {
            "text/plain": [
              "'There-can-only-one.'"
            ],
            "application/vnd.google.colaboratory.intrinsic+json": {
              "type": "string"
            }
          },
          "metadata": {},
          "execution_count": 9
        }
      ]
    },
    {
      "cell_type": "markdown",
      "source": [
        "####**Answer 9**\n",
        "\n",
        "**Right-justifying:** The rjust() method is used to right-justify a string by padding it with spaces on the left. It takes an argument specifying the total width of the resulting string, and if necessary, adds spaces on the left to reach that width.\n",
        "\n",
        "\n",
        "**Left-justifying:** The ljust() method is used to left-justify a string by padding it with spaces on the right. It takes an argument specifying the total width of the resulting string, and if necessary, adds spaces on the right to reach that width.\n",
        "\n",
        "\n",
        "**Centering:** The center() method is used to center a string by padding it with spaces on both sides. It takes an argument specifying the total width of the resulting string, and if necessary, adds an equal number of spaces on both sides to reach that width."
      ],
      "metadata": {
        "id": "8lCRs8j5Rsyt"
      }
    },
    {
      "cell_type": "code",
      "source": [
        "Answer 10\n",
        "]\n",
        "We can use the strip() method. The strip() method removes leading and trailing whitespace characters from a string.\n",
        "\n",
        "text = '   Hello   '\n",
        "clean_text_left = text.lstrip()\n",
        "clean_text_right = text.rstrip()\n",
        "print(clean_text_left)\n",
        "print(clean_text_right)"
      ],
      "metadata": {
        "colab": {
          "base_uri": "https://localhost:8080/"
        },
        "id": "M48gr7JBSIau",
        "outputId": "14cae1f7-367a-4a6b-918e-e4292c3e2033"
      },
      "execution_count": 11,
      "outputs": [
        {
          "output_type": "stream",
          "name": "stdout",
          "text": [
            "Hello   \n",
            "   Hello\n"
          ]
        }
      ]
    }
  ]
}