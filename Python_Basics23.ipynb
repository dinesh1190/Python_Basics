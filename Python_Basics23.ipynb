{
  "nbformat": 4,
  "nbformat_minor": 0,
  "metadata": {
    "colab": {
      "provenance": [],
      "authorship_tag": "ABX9TyMQQodSnIyTEjdzYbipVqpA",
      "include_colab_link": true
    },
    "kernelspec": {
      "name": "python3",
      "display_name": "Python 3"
    },
    "language_info": {
      "name": "python"
    }
  },
  "cells": [
    {
      "cell_type": "markdown",
      "metadata": {
        "id": "view-in-github",
        "colab_type": "text"
      },
      "source": [
        "<a href=\"https://colab.research.google.com/github/dinesh1190/Python_Basics/blob/main/Python_Basics23.ipynb\" target=\"_parent\"><img src=\"https://colab.research.google.com/assets/colab-badge.svg\" alt=\"Open In Colab\"/></a>"
      ]
    },
    {
      "cell_type": "code",
      "execution_count": 5,
      "metadata": {
        "id": "ndC8EoejqipV"
      },
      "outputs": [],
      "source": [
        "Answer 1\n",
        "\n",
        "def func(a, b=6, c=8):\n",
        "\n",
        "    print(a, b, c)\n",
        "    func(1, 2)\n",
        "\n",
        "#In the first code snippet, the function func() is called with two arguments 1 and 2. The parameter a receives the value 1, b receives the value 2, and c retains its default value 8. Therefore, the output is 1 2 8."
      ]
    },
    {
      "cell_type": "code",
      "source": [
        "Answer 2\n",
        "\n",
        "def func(a, b, c=5):\n",
        "    print(a, b, c)\n",
        "\n",
        "func(1, c=3, b=2)\n",
        "\n",
        "\n",
        "#In the second code snippet, the function func() is called with three arguments, 1, b=2, and c=3. The parameters a and b receive the given values, while c retains its default value 5. Hence, the output is 1 2 3."
      ],
      "metadata": {
        "colab": {
          "base_uri": "https://localhost:8080/"
        },
        "id": "OqJYPFDjswGd",
        "outputId": "ea9eb1f5-5c29-4a34-e947-8f8d560399f1"
      },
      "execution_count": 6,
      "outputs": [
        {
          "output_type": "stream",
          "name": "stdout",
          "text": [
            "1 2 3\n"
          ]
        }
      ]
    },
    {
      "cell_type": "code",
      "source": [
        "Answer 3\n",
        "\n",
        "def func(a, *pargs):\n",
        "    print(a, pargs)\n",
        "\n",
        "func(1, 2, 3)\n",
        "\n",
        "#The third code snippet demonstrates the usage of variable-length arguments (*args). The function func() takes one required argument a and collects any additional arguments into the pargs tuple. When called with func(1, 2, 3), a receives the value 1, and pargs becomes (2, 3). Therefore, the output is 1 (2, 3)."
      ],
      "metadata": {
        "colab": {
          "base_uri": "https://localhost:8080/"
        },
        "id": "v3CsxCmJtC6u",
        "outputId": "8a6168cb-442c-42e8-b63f-1d3bbbc635b9"
      },
      "execution_count": 7,
      "outputs": [
        {
          "output_type": "stream",
          "name": "stdout",
          "text": [
            "1 (2, 3)\n"
          ]
        }
      ]
    },
    {
      "cell_type": "code",
      "source": [
        "Answer 4\n",
        "\n",
        "\n",
        "def func(a, **kargs):\n",
        "    print(a, kargs)\n",
        "\n",
        "func(a=1, c=3, b=2)\n",
        "\n",
        "#In the fourth code snippet, the function func() uses keyword arguments (**kwargs) to collect named arguments into a dictionary. When called with func(a=1, c=3, b=2), a receives the value 1, and kargs becomes {'c': 3, 'b': 2}. Hence, the output is 1 {'c': 3, 'b': 2}."
      ],
      "metadata": {
        "colab": {
          "base_uri": "https://localhost:8080/"
        },
        "id": "LDKSNqjetLvV",
        "outputId": "14a65e31-eb94-479a-b9b6-c37dee08618b"
      },
      "execution_count": 8,
      "outputs": [
        {
          "output_type": "stream",
          "name": "stdout",
          "text": [
            "1 {'c': 3, 'b': 2}\n"
          ]
        }
      ]
    },
    {
      "cell_type": "code",
      "source": [
        "Answer 5\n",
        "\n",
        "def func(a, b, c=8, d=5):\n",
        "    print(a, b, c, d)\n",
        "\n",
        "func(1, *(5, 6))\n",
        "\n",
        "#The fifth code snippet demonstrates the usage of the * operator to unpack a tuple as arguments. The function func() receives four arguments: 1, 5, 6, and retains the default values 8 and 5 for c and d, respectively. Thus, the output is 1 5 6 5."
      ],
      "metadata": {
        "colab": {
          "base_uri": "https://localhost:8080/"
        },
        "id": "IFBouIDWtU4m",
        "outputId": "94925d75-fef8-4f69-9ce5-c34f48caef6a"
      },
      "execution_count": 9,
      "outputs": [
        {
          "output_type": "stream",
          "name": "stdout",
          "text": [
            "1 5 6 5\n"
          ]
        }
      ]
    },
    {
      "cell_type": "code",
      "source": [
        "Answer 6\n",
        "\n",
        "\n",
        "def func(a, b, c):\n",
        "    a = 2\n",
        "    b[0] = 'x'\n",
        "    c['a'] = 'y'\n",
        "\n",
        "l = 1\n",
        "m = [1]\n",
        "n = {'a': 0}\n",
        "func(l, m, n)\n",
        "print(l, m, n)\n",
        "\n",
        "#The sixth code snippet shows the modification of variables passed as arguments. The variables l, m, and n are passed to the func() function. Inside the function, a is reassigned to 2, the first element of b is changed to 'x', and the value associated with the key 'a' in c is updated to 'y'. As a result, the values of l, m, and n are 1, ['x'], and {'a': 'y'} when printed after calling func()."
      ],
      "metadata": {
        "colab": {
          "base_uri": "https://localhost:8080/"
        },
        "id": "LcnE73totcIQ",
        "outputId": "7f439f3f-be74-4d14-e378-b38f4351a7d1"
      },
      "execution_count": 12,
      "outputs": [
        {
          "output_type": "stream",
          "name": "stdout",
          "text": [
            "1 ['x'] {'a': 'y'}\n"
          ]
        }
      ]
    }
  ]
}