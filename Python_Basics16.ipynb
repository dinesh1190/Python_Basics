{
  "nbformat": 4,
  "nbformat_minor": 0,
  "metadata": {
    "colab": {
      "provenance": [],
      "authorship_tag": "ABX9TyNbKI1kAIBf6M5egYDLdOkA",
      "include_colab_link": true
    },
    "kernelspec": {
      "name": "python3",
      "display_name": "Python 3"
    },
    "language_info": {
      "name": "python"
    }
  },
  "cells": [
    {
      "cell_type": "markdown",
      "metadata": {
        "id": "view-in-github",
        "colab_type": "text"
      },
      "source": [
        "<a href=\"https://colab.research.google.com/github/dinesh1190/Python_Basics/blob/main/Python_Basics16.ipynb\" target=\"_parent\"><img src=\"https://colab.research.google.com/assets/colab-badge.svg\" alt=\"Open In Colab\"/></a>"
      ]
    },
    {
      "cell_type": "code",
      "execution_count": null,
      "metadata": {
        "id": "2l4i__fsHJaO"
      },
      "outputs": [],
      "source": [
        "Answer 1\n",
        "\n",
        "years_list = [1990, 1991, 1992, 1993, 1994, 1995]\n"
      ]
    },
    {
      "cell_type": "code",
      "source": [
        "Anaswer 2\n",
        "\n",
        "\n",
        "years_list = [1990, 1991, 1992, 1993, 1994, 1995]\n",
        "third_birthday_year = years_list[2]\n",
        "print(third_birthday_year)"
      ],
      "metadata": {
        "colab": {
          "base_uri": "https://localhost:8080/"
        },
        "id": "CNViFYf7J4tq",
        "outputId": "1c1f2f6f-14ea-4af0-c2b0-c262426fc72e"
      },
      "execution_count": null,
      "outputs": [
        {
          "output_type": "stream",
          "name": "stdout",
          "text": [
            "1992\n"
          ]
        }
      ]
    },
    {
      "cell_type": "code",
      "source": [
        "Answer 3\n",
        "\n",
        "years_list = [1990, 1991, 1992, 1993, 1994, 1995]\n",
        "oldest_year = years_list[-1]\n",
        "print(oldest_year)"
      ],
      "metadata": {
        "colab": {
          "base_uri": "https://localhost:8080/"
        },
        "id": "b74QF9BsKweX",
        "outputId": "19e04b2f-58f5-467f-c508-b4a104c38fd8"
      },
      "execution_count": null,
      "outputs": [
        {
          "output_type": "stream",
          "name": "stdout",
          "text": [
            "1995\n"
          ]
        }
      ]
    },
    {
      "cell_type": "code",
      "source": [
        "Answer 4\n",
        "\n",
        "things = [\"mozzarella\", \"cinderella\", \"salmonella\"]"
      ],
      "metadata": {
        "id": "C5NQetorKyzA"
      },
      "execution_count": null,
      "outputs": []
    },
    {
      "cell_type": "code",
      "source": [
        "Answer 5\n",
        "\n",
        "\n",
        "things = [\"mozzarella\", \"cinderella\", \"salmonella\"]\n",
        "things[1] = things[1].capitalize()\n",
        "print(things)"
      ],
      "metadata": {
        "colab": {
          "base_uri": "https://localhost:8080/"
        },
        "id": "FjFp2z1GLHVW",
        "outputId": "df5c2236-bcb8-46f5-87c7-48ea6f60e3f3"
      },
      "execution_count": null,
      "outputs": [
        {
          "output_type": "stream",
          "name": "stdout",
          "text": [
            "['mozzarella', 'Cinderella', 'salmonella']\n"
          ]
        }
      ]
    },
    {
      "cell_type": "code",
      "source": [
        "Answer 6\n",
        "\n",
        "surprise = [\"Groucho\", \"Chico\", \"Harpo\"]"
      ],
      "metadata": {
        "id": "oAwSYn8vLLme"
      },
      "execution_count": null,
      "outputs": []
    },
    {
      "cell_type": "code",
      "source": [
        "Answer 7\n",
        "surprise = [\"Groucho\", \"Chico\", \"Harpo\"]\n",
        "surprise[-1] = surprise[-1].lower()[::-1].capitalize()\n",
        "print(surprise)"
      ],
      "metadata": {
        "colab": {
          "base_uri": "https://localhost:8080/"
        },
        "id": "ex35bvYRLP_T",
        "outputId": "5cac3457-1b79-43b5-ccad-cb2a31ef960e"
      },
      "execution_count": null,
      "outputs": [
        {
          "output_type": "stream",
          "name": "stdout",
          "text": [
            "['Groucho', 'Chico', 'Oprah']\n"
          ]
        }
      ]
    },
    {
      "cell_type": "code",
      "source": [
        "\n",
        "Answer 8\n",
        "\n",
        "e2f = {\n",
        "    \"dog\": \"chien\",\n",
        "    \"cat\": \"chat\",\n",
        "    \"walrus\": \"morse\"\n",
        "}\n",
        "\n",
        "print(e2f)"
      ],
      "metadata": {
        "colab": {
          "base_uri": "https://localhost:8080/"
        },
        "id": "hX5aOtLqLg4z",
        "outputId": "6065876b-9b20-4260-ac2e-3b8903c4fa43"
      },
      "execution_count": null,
      "outputs": [
        {
          "output_type": "stream",
          "name": "stdout",
          "text": [
            "{'dog': 'chien', 'cat': 'chat', 'walrus': 'morse'}\n"
          ]
        }
      ]
    },
    {
      "cell_type": "code",
      "source": [
        "Answer 9\n",
        "\n",
        "french_word = e2f[\"walrus\"]\n",
        "print(french_word)"
      ],
      "metadata": {
        "colab": {
          "base_uri": "https://localhost:8080/"
        },
        "id": "beocO2FsLoCG",
        "outputId": "cb2d32ce-b1e0-49ea-a47f-7815b6d007b8"
      },
      "execution_count": null,
      "outputs": [
        {
          "output_type": "stream",
          "name": "stdout",
          "text": [
            "morse\n"
          ]
        }
      ]
    },
    {
      "cell_type": "code",
      "source": [
        "Answer 10\n",
        "\n",
        "\n",
        "f2e = {value: key for key, value in e2f.items()}\n",
        "print(f2e)"
      ],
      "metadata": {
        "colab": {
          "base_uri": "https://localhost:8080/"
        },
        "id": "IRewuyRaLv2p",
        "outputId": "2ce55a1e-a592-436b-95a5-96e0cbe74f2b"
      },
      "execution_count": null,
      "outputs": [
        {
          "output_type": "stream",
          "name": "stdout",
          "text": [
            "{'chien': 'dog', 'chat': 'cat', 'morse': 'walrus'}\n"
          ]
        }
      ]
    },
    {
      "cell_type": "code",
      "source": [
        "Answer 11\n",
        "\n",
        "\n",
        "english_word = f2e[\"chien\"]\n",
        "print(english_word)"
      ],
      "metadata": {
        "colab": {
          "base_uri": "https://localhost:8080/"
        },
        "id": "51CQmtH-MENg",
        "outputId": "845808fc-4d88-48b6-949b-de796cfa1dba"
      },
      "execution_count": null,
      "outputs": [
        {
          "output_type": "stream",
          "name": "stdout",
          "text": [
            "dog\n"
          ]
        }
      ]
    },
    {
      "cell_type": "code",
      "source": [
        "Answer 12\n",
        "\n",
        "\n",
        "english_words = set(e2f.keys())\n",
        "print(english_words)"
      ],
      "metadata": {
        "colab": {
          "base_uri": "https://localhost:8080/"
        },
        "id": "3kSr_rxrMGGv",
        "outputId": "56de68e9-877d-4d93-f3b0-ef6947b974f5"
      },
      "execution_count": null,
      "outputs": [
        {
          "output_type": "stream",
          "name": "stdout",
          "text": [
            "{'walrus', 'dog', 'cat'}\n"
          ]
        }
      ]
    },
    {
      "cell_type": "code",
      "source": [
        "Answer 13\n",
        "\n",
        "life = {\n",
        "    'animals': {\n",
        "        'cats': [\"Henri\", \"Grumpy\", \"Lucy\"],\n",
        "        'octopi': {},\n",
        "        'emus': {}\n",
        "    },\n",
        "    'plants': {},\n",
        "    'other': {}\n",
        "}"
      ],
      "metadata": {
        "id": "v6xL7437MS_g"
      },
      "execution_count": null,
      "outputs": []
    },
    {
      "cell_type": "code",
      "source": [
        "Answer 14\n",
        "\n",
        "\n",
        "top_keys = life.keys()\n",
        "print(top_keys)"
      ],
      "metadata": {
        "colab": {
          "base_uri": "https://localhost:8080/"
        },
        "id": "NM5dc3Z3MXwx",
        "outputId": "73aff1d8-ff53-4738-ea0b-ed26d9901bf1"
      },
      "execution_count": null,
      "outputs": [
        {
          "output_type": "stream",
          "name": "stdout",
          "text": [
            "dict_keys(['animals', 'plants', 'other'])\n"
          ]
        }
      ]
    },
    {
      "cell_type": "code",
      "source": [
        "answer 15\n",
        "\n",
        "\n",
        "animal_keys = life['animals'].keys()\n",
        "print(animal_keys)"
      ],
      "metadata": {
        "colab": {
          "base_uri": "https://localhost:8080/"
        },
        "id": "W27XCH47Mb1A",
        "outputId": "658d31d5-da1b-4192-c184-f68dd211e17c"
      },
      "execution_count": null,
      "outputs": [
        {
          "output_type": "stream",
          "name": "stdout",
          "text": [
            "dict_keys(['cats', 'octopi', 'emus'])\n"
          ]
        }
      ]
    },
    {
      "cell_type": "code",
      "source": [
        "Answer 16\n",
        "\n",
        "\n",
        "cat_values = life['animals']['cats']\n",
        "print(cat_values)"
      ],
      "metadata": {
        "id": "wWM0yyiHMftz",
        "outputId": "d9fa5a10-9589-4d04-ae3e-873367569d02",
        "colab": {
          "base_uri": "https://localhost:8080/"
        }
      },
      "execution_count": null,
      "outputs": [
        {
          "output_type": "stream",
          "name": "stdout",
          "text": [
            "['Henri', 'Grumpy', 'Lucy']\n"
          ]
        }
      ]
    }
  ]
}