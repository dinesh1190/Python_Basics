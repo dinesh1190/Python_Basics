{
  "nbformat": 4,
  "nbformat_minor": 0,
  "metadata": {
    "colab": {
      "provenance": [],
      "authorship_tag": "ABX9TyO7EKtKR3LVGo5NXVbdqwy1",
      "include_colab_link": true
    },
    "kernelspec": {
      "name": "python3",
      "display_name": "Python 3"
    },
    "language_info": {
      "name": "python"
    }
  },
  "cells": [
    {
      "cell_type": "markdown",
      "metadata": {
        "id": "view-in-github",
        "colab_type": "text"
      },
      "source": [
        "<a href=\"https://colab.research.google.com/github/dinesh1190/Python_Basics/blob/main/Python_Basics5.ipynb\" target=\"_parent\"><img src=\"https://colab.research.google.com/assets/colab-badge.svg\" alt=\"Open In Colab\"/></a>"
      ]
    },
    {
      "cell_type": "code",
      "execution_count": null,
      "metadata": {
        "id": "eFMFhy-2Fdy5"
      },
      "outputs": [],
      "source": [
        "Answer 1\n",
        "my_dict = {}"
      ]
    },
    {
      "cell_type": "code",
      "source": [
        "Answer 2\n",
        "my_dict = {'foo': 42}\n",
        "value = my_dict['foo']\n",
        "print(value)"
      ],
      "metadata": {
        "colab": {
          "base_uri": "https://localhost:8080/"
        },
        "id": "nXO1mlA4FvvB",
        "outputId": "22fdc899-741e-4e49-d365-87748809a300"
      },
      "execution_count": 1,
      "outputs": [
        {
          "output_type": "stream",
          "name": "stdout",
          "text": [
            "42\n"
          ]
        }
      ]
    },
    {
      "cell_type": "markdown",
      "source": [
        "####**Answer 3**\n",
        "\n",
        "**Organization:**\n",
        "\n",
        "List: A list is an ordered collection of elements. Elements in a list are stored in a specific order, and their positions are defined by their indices. The order of elements in a list is maintained unless explicitly modified.\n",
        "Dictionary: A dictionary is an unordered collection of key-value pairs. Instead of indices, elements in a dictionary are accessed and organized by unique keys. Keys can be of various data types, such as strings or numbers, and each key is associated with a value.\n",
        "\n",
        "**Accessing Elements:**\n",
        "\n",
        "List: In a list, elements are accessed by their index. Indices are integer values starting from 0 for the first element, allowing direct access to elements based on their position.\n",
        "Dictionary: In a dictionary, elements are accessed by their keys. Instead of using indices, you use the specific key associated with a value to retrieve or modify that value. Keys in a dictionary provide a more meaningful and customizable way to access elements.\n",
        "\n",
        "**Mutable vs. Immutable:****\n",
        "\n",
        "List: Lists are mutable, meaning their elements can be modified, added, or removed after creation. Elements within a list can be reassigned or modified directly.\n",
        "Dictionary: Dictionaries are mutable as well. You can add, remove, or modify elements by manipulating the key-value pairs within the dictionary.\n",
        "\n",
        "**Representation:**\n",
        "\n",
        "List: Lists are represented using square brackets [], with elements separated by commas.\n",
        "Dictionary: Dictionaries are represented using curly braces {}, with key-value pairs separated by colons (:) and elements separated by commas."
      ],
      "metadata": {
        "id": "jgHaHXkyGEmR"
      }
    },
    {
      "cell_type": "code",
      "source": [
        "Answer 4\n",
        "spam = {'bar': 100}\n",
        "value = spam['foo&']"
      ],
      "metadata": {
        "colab": {
          "base_uri": "https://localhost:8080/",
          "height": 182
        },
        "id": "j6evcc1VGmja",
        "outputId": "7d21eb97-36ce-43b8-e20f-ae75c6334453"
      },
      "execution_count": 2,
      "outputs": [
        {
          "output_type": "error",
          "ename": "KeyError",
          "evalue": "ignored",
          "traceback": [
            "\u001b[0;31m---------------------------------------------------------------------------\u001b[0m",
            "\u001b[0;31mKeyError\u001b[0m                                  Traceback (most recent call last)",
            "\u001b[0;32m<ipython-input-2-19b7b3c7c364>\u001b[0m in \u001b[0;36m<cell line: 2>\u001b[0;34m()\u001b[0m\n\u001b[1;32m      1\u001b[0m \u001b[0mspam\u001b[0m \u001b[0;34m=\u001b[0m \u001b[0;34m{\u001b[0m\u001b[0;34m'bar'\u001b[0m\u001b[0;34m:\u001b[0m \u001b[0;36m100\u001b[0m\u001b[0;34m}\u001b[0m\u001b[0;34m\u001b[0m\u001b[0;34m\u001b[0m\u001b[0m\n\u001b[0;32m----> 2\u001b[0;31m \u001b[0mvalue\u001b[0m \u001b[0;34m=\u001b[0m \u001b[0mspam\u001b[0m\u001b[0;34m[\u001b[0m\u001b[0;34m'foo&'\u001b[0m\u001b[0;34m]\u001b[0m\u001b[0;34m\u001b[0m\u001b[0;34m\u001b[0m\u001b[0m\n\u001b[0m",
            "\u001b[0;31mKeyError\u001b[0m: 'foo&'"
          ]
        }
      ]
    },
    {
      "cell_type": "markdown",
      "source": [
        "####**Answer 5**\n",
        "\n",
        "**'cat' in spam:**\n",
        "\n",
        "This expression checks if the key 'cat' exists directly in the dictionary spam.\n",
        "It evaluates to True if the key 'cat' is present as a key in the dictionary, regardless of the associated value.\n",
        "\n",
        "**'cat' in spam.keys():**\n",
        "\n",
        "This expression checks if the key 'cat' exists in the keys of the dictionary spam.\n",
        "spam.keys() returns a view object that represents the keys of the dictionary.\n",
        "It evaluates to True if the key 'cat' is present among the keys of the dictionary, regardless of the associated values."
      ],
      "metadata": {
        "id": "7PyTixjtHBXA"
      }
    },
    {
      "cell_type": "markdown",
      "source": [
        "####**Answer 6**\n",
        "\n",
        "**'cat' in spam:**\n",
        "\n",
        "This expression checks if the value 'cat' exists as a value in the dictionary spam.\n",
        "It evaluates to True if any of the values in the dictionary spam match 'cat'.\n",
        "\n",
        "**'cat' in spam.values():**\n",
        "\n",
        "This expression checks if the value 'cat' exists among the values of the dictionary spam.\n",
        "spam.values() returns a view object that represents the values of the dictionary.\n",
        "It evaluates to True if the value 'cat' is present among the values of the dictionary."
      ],
      "metadata": {
        "id": "1iqXDkFyHfUR"
      }
    },
    {
      "cell_type": "code",
      "source": [
        "Answer 7\n",
        "spam.setdefault('color', 'black')"
      ],
      "metadata": {
        "colab": {
          "base_uri": "https://localhost:8080/",
          "height": 36
        },
        "id": "O8WIVSsFIE18",
        "outputId": "c9b95d70-e8e1-4d9c-fb66-e5d9e35a644e"
      },
      "execution_count": 3,
      "outputs": [
        {
          "output_type": "execute_result",
          "data": {
            "text/plain": [
              "'black'"
            ],
            "application/vnd.google.colaboratory.intrinsic+json": {
              "type": "string"
            }
          },
          "metadata": {},
          "execution_count": 3
        }
      ]
    },
    {
      "cell_type": "code",
      "source": [
        "Answer 8\n",
        "import pprint\n",
        "my_dict = {'name': 'Alex', 'age': 25, 'city': 'Mumbai','Pincode': '400037'}\n",
        "pprint.pprint(my_dict)"
      ],
      "metadata": {
        "colab": {
          "base_uri": "https://localhost:8080/"
        },
        "id": "jt-cwSZYIYC8",
        "outputId": "d1e0a075-955c-4e7a-a59f-09fce2ffa957"
      },
      "execution_count": 7,
      "outputs": [
        {
          "output_type": "stream",
          "name": "stdout",
          "text": [
            "{'Pincode': '400037', 'age': 25, 'city': 'Mumbai', 'name': 'Alex'}\n"
          ]
        }
      ]
    }
  ]
}