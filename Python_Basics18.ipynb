{
  "nbformat": 4,
  "nbformat_minor": 0,
  "metadata": {
    "colab": {
      "provenance": [],
      "authorship_tag": "ABX9TyNnKgeUIXjiB9OQFtiZaOJy",
      "include_colab_link": true
    },
    "kernelspec": {
      "name": "python3",
      "display_name": "Python 3"
    },
    "language_info": {
      "name": "python"
    }
  },
  "cells": [
    {
      "cell_type": "markdown",
      "metadata": {
        "id": "view-in-github",
        "colab_type": "text"
      },
      "source": [
        "<a href=\"https://colab.research.google.com/github/dinesh1190/Python_Basics/blob/main/Python_Basics18.ipynb\" target=\"_parent\"><img src=\"https://colab.research.google.com/assets/colab-badge.svg\" alt=\"Open In Colab\"/></a>"
      ]
    },
    {
      "cell_type": "code",
      "execution_count": null,
      "metadata": {
        "id": "49HfUN_yOoXU"
      },
      "outputs": [],
      "source": [
        "Answer 1\n",
        "\n",
        "# zoo.py\n",
        "def hours():\n",
        "    print('Open 9-5 daily')\n",
        "\n"
      ]
    },
    {
      "cell_type": "code",
      "source": [
        "Answer 2\n",
        "\n",
        "\n",
        "import zoo as menagerie\n",
        "menagerie.hours()\n",
        "Open 9-5 daily"
      ],
      "metadata": {
        "id": "KM9mAyYdTC-h"
      },
      "execution_count": null,
      "outputs": []
    },
    {
      "cell_type": "code",
      "source": [
        "Answer 3\n",
        "\n",
        "\n",
        ">>> from zoo import hours\n",
        ">>> hours()\n",
        "Open 9-5 daily"
      ],
      "metadata": {
        "id": "6mNAYJkrTKmx"
      },
      "execution_count": null,
      "outputs": []
    },
    {
      "cell_type": "code",
      "source": [
        "Answer 4\n",
        "\n",
        "\n",
        ">>> from zoo import hours\n",
        ">>> hours()\n",
        "Open 9-5 daily"
      ],
      "metadata": {
        "id": "9dFb084OTYiy"
      },
      "execution_count": null,
      "outputs": []
    },
    {
      "cell_type": "code",
      "source": [
        "Answer 5\n",
        "\n",
        "\n",
        ">>> plain_dict = {'a': 1, 'b': 2, 'c': 3}\n",
        ">>> print(plain_dict)\n",
        "{'a': 1, 'b': 2, 'c': 3}"
      ],
      "metadata": {
        "colab": {
          "base_uri": "https://localhost:8080/"
        },
        "id": "ruOWLi35TOHR",
        "outputId": "bee3f6d7-fd8d-4d4e-fc5e-68a084bb4c81"
      },
      "execution_count": null,
      "outputs": [
        {
          "output_type": "stream",
          "name": "stdout",
          "text": [
            "{'a': 1, 'b': 2, 'c': 3}\n"
          ]
        },
        {
          "output_type": "execute_result",
          "data": {
            "text/plain": [
              "{'a': 1, 'b': 2, 'c': 3}"
            ]
          },
          "metadata": {},
          "execution_count": 4
        }
      ]
    },
    {
      "cell_type": "code",
      "source": [
        "Answer 6\n",
        "\n",
        "\n",
        ">>> from collections import OrderedDict\n",
        ">>> fancy = OrderedDict([('a', 1), ('b', 2), ('c', 3)])\n",
        ">>> print(fancy)\n",
        "OrderedDict([('a', 1), ('b', 2), ('c', 3)])"
      ],
      "metadata": {
        "colab": {
          "base_uri": "https://localhost:8080/"
        },
        "id": "UnuZ2hsATb9D",
        "outputId": "8d61eceb-67c2-47e2-afa3-71f2d776edfc"
      },
      "execution_count": null,
      "outputs": [
        {
          "output_type": "stream",
          "name": "stdout",
          "text": [
            "OrderedDict([('a', 1), ('b', 2), ('c', 3)])\n"
          ]
        },
        {
          "output_type": "execute_result",
          "data": {
            "text/plain": [
              "OrderedDict([('a', 1), ('b', 2), ('c', 3)])"
            ]
          },
          "metadata": {},
          "execution_count": 5
        }
      ]
    },
    {
      "cell_type": "code",
      "source": [
        "Answer 7\n",
        "\n",
        "\n",
        ">>> from collections import defaultdict\n",
        ">>> dict_of_lists = defaultdict(list)\n",
        ">>> dict_of_lists['a'].append('something for a')\n",
        ">>> print(dict_of_lists['a'])\n",
        "['something for a']"
      ],
      "metadata": {
        "colab": {
          "base_uri": "https://localhost:8080/"
        },
        "id": "1m8qqVxgTeGg",
        "outputId": "33195e28-7f6b-45e6-cdc3-b1dcd1f322b2"
      },
      "execution_count": null,
      "outputs": [
        {
          "output_type": "stream",
          "name": "stdout",
          "text": [
            "['something for a']\n"
          ]
        },
        {
          "output_type": "execute_result",
          "data": {
            "text/plain": [
              "['something for a']"
            ]
          },
          "metadata": {},
          "execution_count": 6
        }
      ]
    }
  ]
}