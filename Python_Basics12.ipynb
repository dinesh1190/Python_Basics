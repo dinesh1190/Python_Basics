{
  "nbformat": 4,
  "nbformat_minor": 0,
  "metadata": {
    "colab": {
      "provenance": [],
      "authorship_tag": "ABX9TyNHRhHOGE2QBOmtWc2YxKtw",
      "include_colab_link": true
    },
    "kernelspec": {
      "name": "python3",
      "display_name": "Python 3"
    },
    "language_info": {
      "name": "python"
    }
  },
  "cells": [
    {
      "cell_type": "markdown",
      "metadata": {
        "id": "view-in-github",
        "colab_type": "text"
      },
      "source": [
        "<a href=\"https://colab.research.google.com/github/dinesh1190/Python_Basics/blob/main/Python_Basics12.ipynb\" target=\"_parent\"><img src=\"https://colab.research.google.com/assets/colab-badge.svg\" alt=\"Open In Colab\"/></a>"
      ]
    },
    {
      "cell_type": "markdown",
      "source": [
        "######**Answer 1**\n",
        "\n",
        "The PdfFileReader() and PdfFileWriter() file objects should be opened in the binary mode, using the 'rb' (read binary) mode for PdfFileReader() and 'wb' (write binary) mode for PdfFileWriter().\n",
        "\n",
        "\n",
        "######**Answer 2**\n",
        "\n",
        "To get a Page object for page 5 from a PdfFileReader object, you can use the getPage() method and pass the index of the page (starting from 0). In this case, you would use getPage(4) to get the Page object for page 5.\n",
        "\n",
        "\n",
        "######**Answer 3**\n",
        "The numPages variable of a PdfFileReader object stores the number of pages in the PDF document. You can access it using the dot notation, like pdf_reader.numPages.\n",
        "\n",
        "\n",
        "######**Answer 4**\n",
        "If a PdfFileReader object's PDF is encrypted with the password \"swordfish,\" you need to decrypt it by calling the decrypt('swordfish') method on the PdfFileReader object before you can obtain Page objects from it. The decryption method takes the password as an argument.\n",
        "\n",
        "\n",
        "######**Answer 5**\n",
        "To rotate a page, you can use the rotateClockwise() or rotateCounterClockwise() methods on a Page object. The rotateClockwise(angle) method rotates the page by the specified angle in degrees clockwise, and the rotateCounterClockwise(angle) method rotates the page by the specified angle in degrees counterclockwise.\n",
        "\n",
        "\n",
        "######**Answer 6**\n",
        "In the context of working with the python-docx library, a Run object represents a contiguous run of text within a paragraph with the same character formatting. It can contain text with consistent formatting such as font, size, color, and style. On the other hand, a Paragraph object represents a single paragraph in a document and can contain multiple Run objects.\n",
        "\n",
        "\n",
        "######**Answer 7**\n",
        "To obtain a list of Paragraph objects for a Document object stored in a variable named \"doc,\" you can access the paragraphs attribute of the Document object. It will return a list of Paragraph objects representing each paragraph in the document. You can access it like this: doc.paragraphs.\n",
        "\n",
        "\n",
        "######**Answer 8**\n",
        "The object that has bold, underline, italic, strike, and outline variables is the Run object. These variables represent character formatting options that can be applied to the text within a Run object.\n",
        "\n",
        "######**Answer 9**\n",
        "In the context of character formatting, the values of the bold variable are as follows:\n",
        "\n",
        "False: The text is not bold.\n",
        "True: The text is bold.\n",
        "None: The text's boldness is inherited from the surrounding style or formatting.\n",
        "\n",
        "\n",
        "######**Answer 10**\n",
        "To create a Document object for a new Word document, you can use the Document() constructor from the python-docx library. You can create it like this: doc = Document().\n",
        "\n",
        "\n",
        "######**Answer 11**\n",
        "To add a paragraph with the text 'Hello, there!' to a Document object stored in a variable named \"doc,\" you can use the add_paragraph() method of the Document object. Here's an example:\n",
        "\n",
        "**python code**\n",
        "\n",
        "\n",
        "doc.add_paragraph('Hello, there!')\n",
        "\n",
        "The levels of headings available in Word documents are represented by integer values ranging from 1 to 9. The integer represents the hierarchical level of the heading, with 1 being the highest level (main heading) and 9 being the lowest level (subheading)."
      ],
      "metadata": {
        "id": "LD8iuYzQA6om"
      }
    }
  ]
}