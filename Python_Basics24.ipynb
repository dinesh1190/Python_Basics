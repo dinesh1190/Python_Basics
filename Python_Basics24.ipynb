{
  "nbformat": 4,
  "nbformat_minor": 0,
  "metadata": {
    "colab": {
      "provenance": [],
      "authorship_tag": "ABX9TyOUAcpAM2nRmGPjGxTtI9uy",
      "include_colab_link": true
    },
    "kernelspec": {
      "name": "python3",
      "display_name": "Python 3"
    },
    "language_info": {
      "name": "python"
    }
  },
  "cells": [
    {
      "cell_type": "markdown",
      "metadata": {
        "id": "view-in-github",
        "colab_type": "text"
      },
      "source": [
        "<a href=\"https://colab.research.google.com/github/dinesh1190/Python_Basics/blob/main/Python_Basics24.ipynb\" target=\"_parent\"><img src=\"https://colab.research.google.com/assets/colab-badge.svg\" alt=\"Open In Colab\"/></a>"
      ]
    },
    {
      "cell_type": "markdown",
      "source": [
        "#**Answer 1**\n",
        "\n",
        "**def** statements are used to define named functions that can have multiple statements, a return value, and can be called multiple times throughout the program. They have a formal structure with a function name, optional parameters, and a block of code.\n",
        "\n",
        "\n",
        "**Lambda** expressions, also known as anonymous functions, are defined using the lambda keyword. They are used to create small, one-line functions without a function name. Lambda functions are typically used in situations where a simple function is needed, often as arguments to higher-order functions."
      ],
      "metadata": {
        "id": "V0UvhgKXu_Z2"
      }
    },
    {
      "cell_type": "markdown",
      "source": [
        "#**Answer 2**\n",
        "\n",
        "Concise syntax: Lambda expressions allow you to define small functions in a single line of code, which can improve code readability and reduce the need for defining separate named functions.\n",
        "Readability: Lambda functions are often used in situations where the logic being expressed is simple and can be understood at a glance.\n",
        "Function composition: Lambda functions are commonly used with higher-order functions like map, filter, and reduce to perform functional programming operations more succinctly.\n",
        "Avoiding unnecessary function definitions: Instead of defining a separate named function for a small, one-time use, lambda functions provide a way to define the function inline at the point of use."
      ],
      "metadata": {
        "id": "YqZxGBGjvuAw"
      }
    },
    {
      "cell_type": "markdown",
      "source": [
        "#**Answer 3**\n",
        "\n",
        "\n",
        "**map(function, iterable):** Applies the given function to each item in the iterable and returns an iterator of the results. It allows you to transform each element of an iterable by applying a function to it.\n",
        "\n",
        "\n",
        "**filter(function, iterable):** Returns an iterator that contains only the elements from the iterable for which the function returns True. It allows you to selectively filter elements based on a condition.\n",
        "\n",
        "**reduce(function, iterable[, initializer]):** Applies a rolling computation to the items of the iterable, using the function cumulatively. It returns a single value that is the result of the cumulative computation."
      ],
      "metadata": {
        "id": "LjSTVwrQv5tc"
      }
    },
    {
      "cell_type": "markdown",
      "source": [
        "#**Answer 4**\n",
        "\n",
        "Function annotations in Python provide a way to associate metadata, including type hints, with the parameters and return values of functions. They are used to provide information about the expected types and can be accessed through the function's __annotations__ attribute.\n",
        "Function annotations are defined by placing a colon (:) after the parameter or return value name, followed by the annotation expression. The annotations can be any valid Python expression, but they are commonly used for type hints."
      ],
      "metadata": {
        "id": "gDWoBgqFwJTO"
      }
    },
    {
      "cell_type": "markdown",
      "source": [
        "#**Answer 5**\n",
        "\n",
        "Recursive functions are functions that call themselves either directly or indirectly during their execution. They are used to solve problems that can be divided into smaller subproblems of the same form.\n",
        "\n",
        "###**The key characteristics of recursive functions are:**\n",
        "\n",
        "####Base case: Recursive functions have a base case that defines the termination condition. When the base case is met, the function stops calling itself and returns a result.\n",
        "\n",
        "####Recursive case: Recursive functions have a recursive case where they call themselves with a modified set of arguments to solve a smaller subproblem. The recursive calls continue until the base case is reached.\n",
        "\n",
        "\n",
        "####Recursive functions can be used to solve problems that can be naturally divided into smaller instances of the same problem, such as factorial calculation, Fibonacci series, tree traversal, and more."
      ],
      "metadata": {
        "id": "Np1Req3Awbfi"
      }
    },
    {
      "cell_type": "markdown",
      "source": [
        "#**Answer 6**\n",
        "\n",
        "\n",
        "**Function naming:** Choose descriptive names that reflect the purpose or action performed by the function.\n",
        "\n",
        "**Function length:** Aim for shorter functions that focus on doing one thing well, rather than long and complex functions that perform multiple tasks.\n",
        "\n",
        "**Function parameters:** Minimize the number of parameters and use default values or keyword arguments where appropriate to enhance flexibility and readability.\n",
        "\n",
        "**Function return values:** Clearly define and document the expected return values. Avoid complex or multiple exit points in functions for better maintainability.\n",
        "\n",
        "**Function side effects:** Minimize side effects (modifying global state or mutable objects) within functions to improve reusability and predictability.\n",
        "Function documentation: Include docstrings that describe the function's purpose, parameters, return values, and any relevant details. Follow appropriate code documentation conventions.\n",
        "\n",
        "**Function testing:** Write test cases for functions to ensure they behave as expected. Consider using testing frameworks or tools to automate the testing process.\n",
        "Function modularity: Encapsulate functionality into separate functions to promote code reuse and modular design.\n",
        "Function simplicity: Strive for simplicity in function implementation by avoiding unnecessary complexity or over-optimization. Keep the code readable and understandable.\n",
        "\n"
      ],
      "metadata": {
        "id": "8kMbuX97wv41"
      }
    },
    {
      "cell_type": "markdown",
      "source": [
        "#**Answer 7**\n",
        "\n",
        "\n",
        "**Return values:** Functions can return values using the return statement, allowing them to pass computed results back to the caller.\n",
        "\n",
        "**Output parameters:** Functions can modify mutable objects passed as parameters, allowing them to store results in those objects.\n",
        "Exceptions: Functions can raise exceptions to signal errors or exceptional conditions to the caller. The caller can then handle the exceptions appropriately.\n",
        "\n",
        "**Global variables:** Functions can read from and modify global variables to communicate data to the caller. However, using global variables should be minimized for better code organization and reusability.\n",
        "\n",
        "**Printing:** Functions can print output directly to the console using the print statement or function. This method is typically used for informational or debugging purposes and not as the primary means of communicating results to the caller.\n",
        "\n",
        "**Callbacks:** Functions can accept callback functions as parameters, which allows the caller to provide custom code that will be executed within the function's logic."
      ],
      "metadata": {
        "id": "x-jmxpzLxASt"
      }
    }
  ]
}