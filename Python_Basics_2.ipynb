{
  "nbformat": 4,
  "nbformat_minor": 0,
  "metadata": {
    "colab": {
      "provenance": [],
      "authorship_tag": "ABX9TyMqqzwmwQp2Yf2HC8M/wtK5",
      "include_colab_link": true
    },
    "kernelspec": {
      "name": "python3",
      "display_name": "Python 3"
    },
    "language_info": {
      "name": "python"
    }
  },
  "cells": [
    {
      "cell_type": "markdown",
      "metadata": {
        "id": "view-in-github",
        "colab_type": "text"
      },
      "source": [
        "<a href=\"https://colab.research.google.com/github/dinesh1190/Python_Basics/blob/main/Python_Basics_2.ipynb\" target=\"_parent\"><img src=\"https://colab.research.google.com/assets/colab-badge.svg\" alt=\"Open In Colab\"/></a>"
      ]
    },
    {
      "cell_type": "code",
      "execution_count": null,
      "metadata": {
        "id": "cdPa8EZ-ukbX"
      },
      "outputs": [],
      "source": [
        "Answer 1\n",
        "The Boolean data type in Python represents the concept of truthfulness or logical values. It has two possible values: True and False.\n",
        "\n",
        "Examples:\n",
        "\n",
        "True: Represents the logical value for true.\n",
        "False: Represents the logical value for false."
      ]
    },
    {
      "cell_type": "code",
      "source": [
        "Answer 2\n",
        "1.Logical AND (and):\n",
        "The logical AND operator returns True if both operands are true, and False otherwise.\n",
        "Syntax: operand1 and operand2\n",
        "\n",
        "2.Logical OR (or):\n",
        "The logical OR operator returns True if at least one of the operands is true, and False if both operands are false.\n",
        "Syntax: operand1 or operand2\n",
        "\n",
        "3.Logical NOT (not):\n",
        "The logical NOT operator returns the opposite of the operand's truth value.\n",
        "It negates the Boolean value, returning True if the operand is False, and False if the operand is True.\n",
        "Syntax: not operand\n",
        "\n"
      ],
      "metadata": {
        "id": "VlNdxPG24Ngp"
      },
      "execution_count": null,
      "outputs": []
    },
    {
      "cell_type": "code",
      "source": [
        "Answer 3\n",
        "1.Logical AND (and):\n",
        "\n",
        "Operand 1\tOperand 2\tResult\n",
        "True\tTrue\tTrue\n",
        "True\tFalse\tFalse\n",
        "False\tTrue\tFalse\n",
        "False\tFalse\tFalse\n",
        "\n",
        "2.Logical OR (or):\n",
        "\n",
        "Operand 1\tOperand 2\tResult\n",
        "True\tTrue\tTrue\n",
        "True\tFalse\tTrue\n",
        "False\tTrue\tTrue\n",
        "False\tFalse\tFalse\n",
        "\n",
        "3.Logical NOT (not):\n",
        "\n",
        "Operand\tResult\n",
        "True\tFalse\n",
        "False\tTrue"
      ],
      "metadata": {
        "id": "d-X607VQ4vv6"
      },
      "execution_count": null,
      "outputs": []
    },
    {
      "cell_type": "code",
      "source": [
        "Answer 4:\n",
        " (5 > 4) and (3 == 5)\n",
        ""
      ],
      "metadata": {
        "colab": {
          "base_uri": "https://localhost:8080/"
        },
        "id": "MQfHbj0n5Xc9",
        "outputId": "055548d4-122c-4ef0-a998-b23d5affd8ba"
      },
      "execution_count": 9,
      "outputs": [
        {
          "output_type": "execute_result",
          "data": {
            "text/plain": [
              "False"
            ]
          },
          "metadata": {},
          "execution_count": 9
        }
      ]
    },
    {
      "cell_type": "code",
      "source": [
        "not (5 > 4)"
      ],
      "metadata": {
        "colab": {
          "base_uri": "https://localhost:8080/"
        },
        "id": "FPG3nB8n6R9U",
        "outputId": "4021e57d-72f5-4a5c-e777-0d81260c73e7"
      },
      "execution_count": 10,
      "outputs": [
        {
          "output_type": "execute_result",
          "data": {
            "text/plain": [
              "False"
            ]
          },
          "metadata": {},
          "execution_count": 10
        }
      ]
    },
    {
      "cell_type": "code",
      "source": [
        "(5 > 4) or (3 == 5)"
      ],
      "metadata": {
        "colab": {
          "base_uri": "https://localhost:8080/"
        },
        "id": "YBqnfFfc5jRY",
        "outputId": "ed71ac01-6c80-4f76-a430-f2480c9bbd98"
      },
      "execution_count": 6,
      "outputs": [
        {
          "output_type": "execute_result",
          "data": {
            "text/plain": [
              "True"
            ]
          },
          "metadata": {},
          "execution_count": 6
        }
      ]
    },
    {
      "cell_type": "code",
      "source": [
        "not ((5 > 4) or (3 == 5))"
      ],
      "metadata": {
        "colab": {
          "base_uri": "https://localhost:8080/"
        },
        "id": "8-h8a3mE6XDz",
        "outputId": "4506f068-13d1-45a5-b649-5c22ecdbd23c"
      },
      "execution_count": 11,
      "outputs": [
        {
          "output_type": "execute_result",
          "data": {
            "text/plain": [
              "False"
            ]
          },
          "metadata": {},
          "execution_count": 11
        }
      ]
    },
    {
      "cell_type": "code",
      "source": [
        "(True and True) and (True == False)"
      ],
      "metadata": {
        "colab": {
          "base_uri": "https://localhost:8080/"
        },
        "id": "E_tnUX8v6exE",
        "outputId": "9e554377-ca0d-4b12-9114-20b892dc69fa"
      },
      "execution_count": 12,
      "outputs": [
        {
          "output_type": "execute_result",
          "data": {
            "text/plain": [
              "False"
            ]
          },
          "metadata": {},
          "execution_count": 12
        }
      ]
    },
    {
      "cell_type": "code",
      "source": [
        "(not False) or (not True)"
      ],
      "metadata": {
        "colab": {
          "base_uri": "https://localhost:8080/"
        },
        "id": "33eUKLI26jmC",
        "outputId": "04743914-5570-466b-c7e2-5b12359779e8"
      },
      "execution_count": 13,
      "outputs": [
        {
          "output_type": "execute_result",
          "data": {
            "text/plain": [
              "True"
            ]
          },
          "metadata": {},
          "execution_count": 13
        }
      ]
    },
    {
      "cell_type": "markdown",
      "source": [
        "Answer 5 :\n",
        "\n",
        "1.Equal to (==):\n",
        "\n",
        "Checks if two values are equal.\n",
        "Returns True if the values are equal, False otherwise.\n",
        "\n",
        "2.Not equal to (!=):\n",
        "\n",
        "Checks if two values are not equal.\n",
        "Returns True if the values are not equal, False otherwise.\n",
        "\n",
        "3.Greater than (>):\n",
        "\n",
        "Checks if the left value is greater than the right value.\n",
        "Returns True if the left value is greater, False otherwise.\n",
        "\n",
        "4.Less than (<):\n",
        "\n",
        "Checks if the left value is less than the right value.\n",
        "Returns True if the left value is less, False otherwise.\n",
        "\n",
        "5.Greater than or equal to (>=):\n",
        "\n",
        "Checks if the left value is greater than or equal to the right value.\n",
        "Returns True if the left value is greater than or equal, False otherwise.\n",
        "\n",
        "6.Less than or equal to (<=):\n",
        "\n",
        "Checks if the left value is less than or equal to the right value.\n",
        "Returns True if the left value is less than or equal, False otherwise."
      ],
      "metadata": {
        "id": "rBgqExpX63yT"
      }
    },
    {
      "cell_type": "markdown",
      "source": [
        "# Answer 6\n",
        "\n",
        "1.Equal to operator (==):\n",
        "\n",
        "The equal to operator is used for comparison to check if two values are equal.\n",
        "It returns a Boolean value (True or False) based on the comparison result.\n",
        "\n",
        "Example: x == y compares the values of x and y and returns True if they are equal, False otherwise.\n",
        "\n",
        "2.Assignment operator (=):\n",
        "\n",
        "The assignment operator is used to assign a value to a variable.\n",
        "It assigns the value on the right side of the operator to the variable on the left side.\n",
        "\n",
        "Example: x = 5 assigns the value 5 to the variable x.\n",
        "\n",
        "**python code**\n",
        "x = 5\n",
        "y = 10\n",
        "\n",
        "if x == y:\n",
        "    print(\"x and y are equal\")\n",
        "else:\n",
        "    print(\"x and y are not equal\")\n",
        "\n",
        "**python code**\n",
        "\n",
        "x = 5\n",
        "\n"
      ],
      "metadata": {
        "id": "crfTfE5o7wIr"
      }
    },
    {
      "cell_type": "markdown",
      "source": [
        "## Answer 7 :\n",
        "\n",
        "spam = 0\n",
        "if spam == 10:\n",
        "  print('eggs')\n",
        "--------------------Block 1\n",
        "\n",
        "if spam > 5:\n",
        "  print('bacon')\n",
        "--------------------Block 2\n",
        "\n",
        "else:\n",
        "  print('ham')\n",
        "  print('spam')\n",
        "  print('spam')\n",
        " -------------------Block 3"
      ],
      "metadata": {
        "id": "W2rkkDra9WiD"
      }
    },
    {
      "cell_type": "code",
      "source": [
        "Answer 8:\n",
        "\n",
        "if spam == 1:\n",
        "    print('Hello')\n",
        "elif spam == 2:\n",
        "    print('Howdy')\n",
        "else:\n",
        "    print('Greetings!')"
      ],
      "metadata": {
        "colab": {
          "base_uri": "https://localhost:8080/"
        },
        "id": "5U6WeXmc8rrU",
        "outputId": "4755d209-69ee-41e8-d4f3-984247b8a573"
      },
      "execution_count": 17,
      "outputs": [
        {
          "output_type": "stream",
          "name": "stdout",
          "text": [
            "Greetings!\n"
          ]
        }
      ]
    },
    {
      "cell_type": "markdown",
      "source": [
        "###Answer 9\n",
        "Ctrl+C (Control + C)"
      ],
      "metadata": {
        "id": "gxwv4JyR-tix"
      }
    },
    {
      "cell_type": "markdown",
      "source": [
        "### Answer 10\n",
        "\n",
        "**1.break statement:**\n",
        "\n",
        "-When encountered within a loop, the break statement immediately terminates the innermost loop (for loop or while loop) and resumes execution at the next statement following the loop.\n",
        "\n",
        "-It completely exits the loop and skips any remaining iterations.\n",
        "\n",
        "-It is often used to prematurely exit a loop based on a certain condition.\n",
        "\n",
        "\n",
        "\n",
        "**2.continue statement:**\n",
        "\n",
        "-When encountered within a loop, the continue statement immediately skips the rest of the current iteration and proceeds to the next iteration of the loop.\n",
        "\n",
        "-It allows you to skip specific iterations based on a certain condition without terminating the loop entirely.\n",
        "\n",
        "-It is often used to skip over certain values or sections of code within a loop.\n",
        "\n"
      ],
      "metadata": {
        "id": "ESreNRTv_M3b"
      }
    },
    {
      "cell_type": "markdown",
      "source": [
        "###Answer 11\n",
        "\n",
        "**1.range(10):**\n",
        "\n",
        "This form of range() specifies a single argument, which represents the stop value.\n",
        "It generates a sequence of numbers starting from 0 (default start value) up to, but not including, the specified stop value (10 in this case).\n",
        "\n",
        "**2.range(0, 10):**\n",
        "\n",
        "This form of range() specifies two arguments, start and stop values, respectively.\n",
        "It generates a sequence of numbers starting from the specified start value (0 in this case) up to, but not including, the specified stop value (10 in this case).\n",
        "\n",
        "**3.range(0, 10, 1):**\n",
        "\n",
        "\n",
        "This form of range() specifies three arguments, start, stop, and step values, respectively.\n",
        "It generates a sequence of numbers starting from the specified start value (0 in this case) up to, but not including, the specified stop value (10 in this case), incrementing by the specified step value (1 in this case)."
      ],
      "metadata": {
        "id": "GotjjCfW_4FF"
      }
    },
    {
      "cell_type": "code",
      "source": [
        "Answer 12:\n",
        "for i in range(1,11):\n",
        "  print(i)"
      ],
      "metadata": {
        "colab": {
          "base_uri": "https://localhost:8080/"
        },
        "id": "suUic9MaAib4",
        "outputId": "d2bd2449-abbf-4e39-af36-3f08ba49365e"
      },
      "execution_count": 25,
      "outputs": [
        {
          "output_type": "stream",
          "name": "stdout",
          "text": [
            "1\n",
            "2\n",
            "3\n",
            "4\n",
            "5\n",
            "6\n",
            "7\n",
            "8\n",
            "9\n",
            "10\n"
          ]
        }
      ]
    },
    {
      "cell_type": "code",
      "source": [
        "i = 1\n",
        "while i <= 10:\n",
        "    print(i)\n",
        "    i += 1"
      ],
      "metadata": {
        "colab": {
          "base_uri": "https://localhost:8080/"
        },
        "id": "ICZnBq6cBICA",
        "outputId": "8bf2cd3f-2180-45f8-87f6-787700efc835"
      },
      "execution_count": 29,
      "outputs": [
        {
          "output_type": "stream",
          "name": "stdout",
          "text": [
            "1\n",
            "2\n",
            "3\n",
            "4\n",
            "5\n",
            "6\n",
            "7\n",
            "8\n",
            "9\n",
            "10\n"
          ]
        }
      ]
    },
    {
      "cell_type": "code",
      "source": [
        "Answer 13:\n",
        "import spam\n",
        "\n",
        "spam.bacon()"
      ],
      "metadata": {
        "id": "YMYR8j9TCKEy"
      },
      "execution_count": null,
      "outputs": []
    }
  ]
}