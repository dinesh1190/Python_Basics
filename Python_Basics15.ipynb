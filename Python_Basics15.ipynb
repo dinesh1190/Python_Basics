{
  "nbformat": 4,
  "nbformat_minor": 0,
  "metadata": {
    "colab": {
      "provenance": [],
      "authorship_tag": "ABX9TyPDiaSWMKCiLpeRcZQEIgWB",
      "include_colab_link": true
    },
    "kernelspec": {
      "name": "python3",
      "display_name": "Python 3"
    },
    "language_info": {
      "name": "python"
    }
  },
  "cells": [
    {
      "cell_type": "markdown",
      "metadata": {
        "id": "view-in-github",
        "colab_type": "text"
      },
      "source": [
        "<a href=\"https://colab.research.google.com/github/dinesh1190/Python_Basics/blob/main/Python_Basics15.ipynb\" target=\"_parent\"><img src=\"https://colab.research.google.com/assets/colab-badge.svg\" alt=\"Open In Colab\"/></a>"
      ]
    },
    {
      "cell_type": "markdown",
      "source": [
        "#**Answer 1**\n",
        "\n",
        "To calculate the number of seconds in an hour, you can multiply the number of seconds in a minute (60) by the number of minutes in an hour (60). Using the interactive interpreter as a calculator:\n",
        "\n",
        "##python code\n",
        "\n",
        "seconds_per_hour = 60 * 60\n",
        "print(seconds_per_hour)\n",
        "\n",
        "\n",
        "Output: 3600\n",
        "\n",
        "So there are 3600 seconds in an hour.\n",
        "\n",
        "seconds_per_day = seconds_per_hour * 24\n",
        "print(seconds_per_day)\n",
        "\n",
        "Output: 86400\n",
        "\n",
        "So there are 86,400 seconds in a day.\n",
        "\n",
        "ratio_integer = seconds_per_day // seconds_per_hour\n",
        "print(ratio_integer)\n",
        "\n",
        "Output: 24\n",
        "\n",
        "ratio_integer = seconds_per_day // seconds_per_hour\n",
        "print(ratio_integer)\n",
        "\n",
        "Output: 24"
      ],
      "metadata": {
        "id": "BImvcL0wEsww"
      }
    },
    {
      "cell_type": "code",
      "source": [
        "Answer 2\n",
        "seconds_per_hour = 60 * 60  # 3600 seconds\n",
        "minutes_per_hour = 60\n",
        "\n",
        "seconds_per_day = seconds_per_hour * 24\n",
        "print(seconds_per_day)"
      ],
      "metadata": {
        "colab": {
          "base_uri": "https://localhost:8080/"
        },
        "id": "oG0Yb23WGYT3",
        "outputId": "1d35dcad-04b4-4a7b-f1c8-eaaaecbf20b6"
      },
      "execution_count": 2,
      "outputs": [
        {
          "output_type": "stream",
          "name": "stdout",
          "text": [
            "86400\n"
          ]
        }
      ]
    },
    {
      "cell_type": "code",
      "source": [
        "Answer 3\n",
        "\n",
        "seconds_per_hour = 60 * 60  # 3600 seconds\n",
        "minutes_per_hour = 60\n",
        "\n",
        "seconds_per_day = seconds_per_hour * 24\n",
        "print(seconds_per_day)"
      ],
      "metadata": {
        "colab": {
          "base_uri": "https://localhost:8080/"
        },
        "id": "ACjI0qI7GdXB",
        "outputId": "59ae2ac7-6d42-43f2-afbf-f1400bd8ee44"
      },
      "execution_count": 3,
      "outputs": [
        {
          "output_type": "stream",
          "name": "stdout",
          "text": [
            "86400\n"
          ]
        }
      ]
    },
    {
      "cell_type": "code",
      "source": [
        "Answer 4\n",
        "\n",
        "\n",
        "hours_per_day = 24\n",
        "minutes_per_hour = 60\n",
        "seconds_per_minute = 60\n",
        "\n",
        "seconds_per_day = hours_per_day * minutes_per_hour * seconds_per_minute\n",
        "\n",
        "print(seconds_per_day)"
      ],
      "metadata": {
        "colab": {
          "base_uri": "https://localhost:8080/"
        },
        "id": "G1q_8HbvGzNn",
        "outputId": "d5d3bfd6-0f91-4a00-840e-2c3c46272fe0"
      },
      "execution_count": 4,
      "outputs": [
        {
          "output_type": "stream",
          "name": "stdout",
          "text": [
            "86400\n"
          ]
        }
      ]
    },
    {
      "cell_type": "code",
      "source": [
        "Answer 5\n",
        "\n",
        "seconds_per_day = 86400\n",
        "seconds_per_hour = 3600\n",
        "\n",
        "seconds_per_hour_ratio = seconds_per_day / seconds_per_hour\n",
        "\n",
        "print(seconds_per_hour_ratio)"
      ],
      "metadata": {
        "colab": {
          "base_uri": "https://localhost:8080/"
        },
        "id": "wAXKjoCZG6sS",
        "outputId": "c6601f00-4291-48e0-bf7b-ff76935e6159"
      },
      "execution_count": 5,
      "outputs": [
        {
          "output_type": "stream",
          "name": "stdout",
          "text": [
            "24.0\n"
          ]
        }
      ]
    },
    {
      "cell_type": "code",
      "source": [
        "Answer 6\n",
        "\n",
        "seconds_per_day = 86400\n",
        "seconds_per_hour = 3600\n",
        "\n",
        "seconds_per_hour_ratio = seconds_per_day // seconds_per_hour\n",
        "\n",
        "print(seconds_per_hour_ratio)"
      ],
      "metadata": {
        "colab": {
          "base_uri": "https://localhost:8080/"
        },
        "id": "ty1GK9hhHAxP",
        "outputId": "e2f55425-c717-4a3e-b351-e73db7c2f737"
      },
      "execution_count": 6,
      "outputs": [
        {
          "output_type": "stream",
          "name": "stdout",
          "text": [
            "24\n"
          ]
        }
      ]
    },
    {
      "cell_type": "code",
      "source": [
        "Answer 7\n",
        "def genPrimes():\n",
        "    primes = []\n",
        "    num = 2\n",
        "    while True:\n",
        "        is_prime = True\n",
        "        for prime in primes:\n",
        "            if num % prime == 0:\n",
        "                is_prime = False\n",
        "                break\n",
        "        if is_prime:\n",
        "            primes.append(num)\n",
        "            yield num\n",
        "        num += 1\n",
        "\n",
        "# Usage:\n",
        "prime_generator = genPrimes()\n",
        "print(next(prime_generator))  # Output: 2\n",
        "print(next(prime_generator))  # Output: 3\n",
        "print(next(prime_generator))  # Output: 5\n",
        "print(next(prime_generator))  # Output: 7\n",
        "print(next(prime_generator))  # Output: 11"
      ],
      "metadata": {
        "colab": {
          "base_uri": "https://localhost:8080/"
        },
        "id": "vBdeHAtLFdnD",
        "outputId": "2a0f1e4e-180b-486a-d091-2f337155c0d9"
      },
      "execution_count": 1,
      "outputs": [
        {
          "output_type": "stream",
          "name": "stdout",
          "text": [
            "2\n",
            "3\n",
            "5\n",
            "7\n",
            "11\n"
          ]
        }
      ]
    }
  ]
}