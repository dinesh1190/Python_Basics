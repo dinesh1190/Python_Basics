{
  "nbformat": 4,
  "nbformat_minor": 0,
  "metadata": {
    "colab": {
      "provenance": [],
      "authorship_tag": "ABX9TyMzX8w3Te0TqpW4NvaTQJMn",
      "include_colab_link": true
    },
    "kernelspec": {
      "name": "python3",
      "display_name": "Python 3"
    },
    "language_info": {
      "name": "python"
    }
  },
  "cells": [
    {
      "cell_type": "markdown",
      "metadata": {
        "id": "view-in-github",
        "colab_type": "text"
      },
      "source": [
        "<a href=\"https://colab.research.google.com/github/dinesh1190/Python_Basics/blob/main/Untitled4.ipynb\" target=\"_parent\"><img src=\"https://colab.research.google.com/assets/colab-badge.svg\" alt=\"Open In Colab\"/></a>"
      ]
    },
    {
      "cell_type": "markdown",
      "source": [
        "Answer 1\n",
        "\n",
        "the feature responsible for generating regular expression objects is the \"re\" module. The \"re\" module provides functions and methods for working with regular expressions. One of the main functions in the \"re\" module is the compile() function, which compiles a regular expression pattern into a regular expression object. This object can then be used to match patterns in strings using various methods provided by the \"re\" module."
      ],
      "metadata": {
        "id": "0EaJ265Eq_-K"
      }
    },
    {
      "cell_type": "markdown",
      "source": [
        "Answer 2\n",
        "\n",
        "Raw strings are often used in regular expressions (Regex) objects because they treat backslashes (\\) as literal characters instead of escape characters. In Python, backslashes are commonly used as escape characters to represent special characters or sequences (e.g., \\n for a newline, \\t for a tab).\n",
        "\n",
        "However, in regular expressions, backslashes are also used as escape characters to define special characters and sequences. For example, \\d represents any digit, \\s represents any whitespace character, and so on. When using regular expressions, it's important to ensure that backslashes are interpreted correctly by Python and the regular expression engine.\n",
        "\n",
        "By using a raw string, denoted by prefixing the string literal with an 'r', such as r'\\d+', Python treats the string as a raw string literal and ignores escape characters within it. This is particularly useful when working with regular expressions because it allows you to write patterns more concisely without having to double-escape certain characters.\n",
        "\n",
        "For example, if you want to match a backslash followed by a digit using a regular expression, you would write r'\\\\d' as a raw string. Without the 'r' prefix, you would need to escape the backslash twice: '\\\\\\\\d'. Raw strings make regular expressions easier to read and write by eliminating the need for excessive escaping of backslashes."
      ],
      "metadata": {
        "id": "ckIw5caErMiA"
      }
    },
    {
      "cell_type": "markdown",
      "source": [
        "Answer 3\n",
        "\n",
        "\n",
        "The search() method in Python's regular expression module (re) returns a match object if it finds a match for the pattern within the searched string. If no match is found, the search() method returns None."
      ],
      "metadata": {
        "id": "mJYXdnlMrS3K"
      }
    },
    {
      "cell_type": "markdown",
      "source": [
        "Answer 4\n",
        "\n",
        "\n",
        "To retrieve the actual strings that match the pattern from a Match object in Python, you can use the group() method. The group() method returns the string that was matched by the regular expression pattern.\n",
        "\n",
        "By default, group() returns the entire matched string. However, you can pass an argument to group() to specify a particular capturing group within the pattern. Capturing groups are defined in regular expressions using parentheses ( and )."
      ],
      "metadata": {
        "id": "uUC3eHxwrjUu"
      }
    },
    {
      "cell_type": "markdown",
      "source": [
        "Answer 5\n",
        "\n",
        "\n",
        "In the regular expression r'(\\d\\d\\d)-(\\d\\d\\d-\\d\\d\\d\\d)', the grouping parentheses ( and ) are used to define capturing groups.\n",
        "\n",
        "Group 0 (or group(0)) represents the entire matched string. In this case, it would be the full phone number in the format \"###-###-####\".\n",
        "\n",
        "Group 1 (or group(1)) represents the first capturing group, which captures the three-digit area code. It corresponds to the pattern (\\d\\d\\d) in the regular expression.\n",
        "\n",
        "Group 2 (or group(2)) represents the second capturing group, which captures the seven-digit phone number. It corresponds to the pattern (\\d\\d\\d-\\d\\d\\d\\d) in the regular expression."
      ],
      "metadata": {
        "id": "p4-otsBNr5-2"
      }
    },
    {
      "cell_type": "markdown",
      "source": [
        "Answer 6\n",
        "\n",
        "In regular expression syntax, parentheses and periods have special meanings as metacharacters. If you want to match literal parentheses ( and ) or periods . in a regular expression, you need to escape them using a backslash \\.\n",
        "\n",
        "To indicate that you want to match literal parentheses and periods, you can use the backslash \\ to escape them."
      ],
      "metadata": {
        "id": "SQcWjcA9sB_w"
      }
    },
    {
      "cell_type": "markdown",
      "source": [
        "Answer 7\n",
        "\n",
        "The findall() method in Python's regular expression module (re) returns a list of strings when there are no capturing groups in the regular expression pattern. It returns a list of tuples of strings when there are one or more capturing groups in the pattern.\n",
        "\n",
        "When there are no capturing groups in the pattern, findall() will return a list of strings, where each string represents a separate match found in the searched text."
      ],
      "metadata": {
        "id": "E9vQ5FAlsJDX"
      }
    },
    {
      "cell_type": "markdown",
      "source": [
        "Answer 8\n",
        "\n",
        "In regular expressions, the | character is known as the pipe or alternation operator. It is used to specify multiple alternative patterns.\n",
        "\n",
        "The | operator allows you to define a pattern that matches either the pattern on its left or the pattern on its right. It acts as a logical OR operation between the two patterns."
      ],
      "metadata": {
        "id": "Ngv0qCH1sRXH"
      }
    },
    {
      "cell_type": "markdown",
      "source": [
        "Answer 9\n",
        "\n",
        "In regular expressions, the | character, known as the pipe or alternation operator, is used to specify multiple alternative patterns. It acts as a logical OR operation between the patterns it separates.\n",
        "\n",
        "The | operator allows you to define a pattern that matches either the pattern on its left or the pattern on its right. It can be used to create a pattern that has multiple alternatives."
      ],
      "metadata": {
        "id": "SE88zL37sngd"
      }
    },
    {
      "cell_type": "markdown",
      "source": [
        "Answer 10\n",
        "\n",
        "\n",
        "The + character: It denotes \"one or more\" occurrences of the preceding pattern. It requires the pattern to appear at least once, but it can repeat any number of times thereafter.\n",
        "\n",
        "For example:\n",
        "\n",
        "Pattern: apple+ matches \"apple\", \"applee\", \"applee\", and so on, but not \"appl\" (as there is no \"e\" after \"l\").\n",
        "Pattern: \\d+ matches one or more digits (e.g., \"123\", \"4567\", etc.).\n",
        "The * character: It denotes \"zero or more\" occurrences of the preceding pattern. It allows the pattern to appear any number of times, including zero times (i.e., it can be absent).\n",
        "\n",
        "For example:\n",
        "\n",
        "Pattern: go*d matches \"gd\", \"god\", \"good\", \"goooood\", and so on, as it allows any number of \"o\" characters, including zero.\n",
        "Pattern: a*b*c* matches \"\", \"a\", \"abc\", \"abbbc\", \"ac\", and so on, as it allows any combination of \"a\", \"b\", and \"c\" characters, including zero occurrences of each."
      ],
      "metadata": {
        "id": "NhpBMhHVss_U"
      }
    },
    {
      "cell_type": "markdown",
      "source": [
        "Answer 11\n",
        "\n",
        "\n",
        "{4}: It specifies an exact number of occurrences of the preceding pattern. It requires the pattern to appear exactly four times.\n",
        "\n",
        "For example:\n",
        "\n",
        "Pattern: a{4} matches \"aaaa\" but not \"aaa\" or \"aaaaa\".\n",
        "Pattern: \\d{4} matches exactly four digits (e.g., \"1234\", \"5678\", etc.).\n",
        "\n",
        "\n",
        "\n",
        "{4,5}: It specifies a range of occurrences for the preceding pattern. It allows the pattern to appear a minimum of four times and a maximum of five times.\n",
        "\n",
        "For example:\n",
        "\n",
        "Pattern: b{4,5} matches \"bbbb\", \"bbbbb\", but not \"bbb\" or \"bbbbbb\".\n",
        "Pattern: [A-Za-z]{4,5} matches a sequence of four or five letters (e.g., \"abcd\", \"XYZW\", etc.)."
      ],
      "metadata": {
        "id": "XcdeUZ1etDGd"
      }
    },
    {
      "cell_type": "markdown",
      "source": [
        "Answer 12\n",
        "\n",
        "\n",
        "\\d: It represents any digit character (0-9). It is equivalent to the character class [0-9].\n",
        "\n",
        "For example:\n",
        "\n",
        "Pattern: \\d\\d\\d matches any three consecutive digits.\n",
        "Pattern: \\d+ matches one or more digits.\n",
        "\n",
        "\\w: It represents any alphanumeric character (letter or digit) or an underscore character. It is equivalent to the character class [a-zA-Z0-9_].\n",
        "\n",
        "For example:\n",
        "\n",
        "Pattern: \\w+ matches one or more alphanumeric characters or underscores.\n",
        "Pattern: \\w\\d matches an alphanumeric character followed by a digit.\n",
        "\n",
        "\\s: It represents any whitespace character, including spaces, tabs, and line breaks. It is equivalent to the character class [\\t\\n\\r\\f\\v].\n",
        "\n",
        "For example:\n",
        "\n",
        "Pattern: \\s+ matches one or more whitespace characters.\n",
        "Pattern: \\s\\d\\s matches a whitespace character followed by a digit and then another whitespace character."
      ],
      "metadata": {
        "id": "joSn-z6ZtTP1"
      }
    },
    {
      "cell_type": "markdown",
      "source": [
        "Answer 13\n",
        "\n",
        "\n",
        "\\D: It represents any character that is not a digit (0-9). It is equivalent to the negation of the character class [0-9].\n",
        "\n",
        "For example:\n",
        "\n",
        "Pattern: \\D+ matches one or more non-digit characters.\n",
        "Pattern: \\D\\D\\D matches any three consecutive non-digit characters.\n",
        "\n",
        "\\W: It represents any character that is not alphanumeric (letter or digit) or an underscore. It is equivalent to the negation of the character class [a-zA-Z0-9_].\n",
        "\n",
        "For example:\n",
        "\n",
        "Pattern: \\W+ matches one or more non-alphanumeric characters or underscores.\n",
        "Pattern: \\W\\W\\W matches any three consecutive non-alphanumeric characters.\n",
        "\n",
        "\\S: It represents any character that is not a whitespace character. It is equivalent to the negation of the character class [\\t\\n\\r\\f\\v].\n",
        "\n",
        "For example:\n",
        "\n",
        "Pattern: \\S+ matches one or more non-whitespace characters.\n",
        "Pattern: \\S\\S\\S matches any three consecutive non-whitespace characters."
      ],
      "metadata": {
        "id": "TSqud3fRtpfD"
      }
    },
    {
      "cell_type": "markdown",
      "source": [
        "Asnwer 14\n",
        "\n",
        "\n",
        ".*? (non-greedy or lazy quantifier): It matches zero or more characters (except newline characters) in a non-greedy or lazy manner. It will match as few characters as possible to satisfy the overall pattern.\n",
        "\n",
        "For example:\n",
        "\n",
        "Pattern: a.*?b would match the shortest substring starting with \"a\" and ending with \"b\" (e.g., \"ab\", \"axb\", \"axyb\", etc.).\n",
        "\n",
        "\n",
        ".* (greedy quantifier): It matches zero or more characters (except newline characters) in a greedy manner. It will match as many characters as possible to satisfy the overall pattern.\n",
        "\n",
        "For example:\n",
        "\n",
        "Pattern: a.*b would match the longest substring starting with \"a\" and ending with \"b\" (e.g., \"ab\", \"axyb\", \"axyzcb\", etc.)."
      ],
      "metadata": {
        "id": "vwxzOpTlueGo"
      }
    },
    {
      "cell_type": "markdown",
      "source": [
        "Answer 15\n",
        "\n",
        "To match both numbers and lowercase letters using a character class in a regular expression, you can use the range notation within the character class.\n",
        "\n",
        "Here's the syntax:\n",
        "\n",
        "[0-9a-z]\n",
        "In the above example, [0-9a-z] represents a character class that matches any single character that is either a digit (0-9) or a lowercase letter (a-z).\n",
        "\n",
        "Here are a few examples:\n",
        "\n",
        "Pattern: [0-9a-z]+ matches one or more occurrences of digits or lowercase letters.\n",
        "Pattern: [0-9a-z]{3} matches exactly three consecutive digits or lowercase letters.\n",
        "Pattern: [0-9a-z]? matches an optional occurrence of a digit or lowercase letter.\n",
        "You can combine character ranges within the character class to include other characters as needed. For example, [0-9a-zA-Z] matches both lowercase and uppercase letters along with digits."
      ],
      "metadata": {
        "id": "he7gzkV2uzd1"
      }
    },
    {
      "cell_type": "markdown",
      "source": [
        "Answer 16\n",
        "\n",
        "\n",
        "To make a regular expression case-insensitive in Python, you can use the re.IGNORECASE flag as an argument to the appropriate regular expression function or method. This flag instructs the regular expression engine to perform a case-insensitive match. Here's the general procedure:\n",
        "\n",
        "Import the re module: Start by importing the re module, which provides functions and methods for working with regular expressions.\n",
        "\n",
        "*python code*\n",
        "\n",
        "**import re**\n",
        "\n",
        "Compile the regular expression pattern: Use the re.compile() function to compile your regular expression pattern into a regular expression object. Assign it to a variable for later use.\n",
        "\n",
        "*python code*\n",
        "\n",
        "**pattern = re.compile(r'your_pattern_here', re.IGNORECASE)**\n",
        "\n",
        "\n",
        "In the example above, r'your_pattern_here' represents the regular expression pattern you want to match in a case-insensitive manner. The re.IGNORECASE flag is passed as the second argument to indicate case insensitivity.\n",
        "\n",
        "Use the regular expression object: You can then use the regular expression object to perform various operations, such as searching, matching, or replacing within strings.\n",
        "\n",
        "*python code*\n",
        "\n",
        "**match = pattern.search(text)**\n",
        "\n",
        "\n",
        "In the above example, text represents the string you want to search for a match using the compiled regular expression pattern. The search() method is used to search for the pattern in the text.\n",
        "\n",
        "By using the re.IGNORECASE flag, the regular expression engine will now perform case-insensitive matches when using the compiled regular expression object."
      ],
      "metadata": {
        "id": "4_Le0cERvJ1V"
      }
    },
    {
      "cell_type": "markdown",
      "source": [
        "Asnwer 17\n",
        "\n",
        "\n",
        "In regular expressions, the . (dot) character typically matches any character except a newline character (\\n). However, when the re.DOTALL flag is passed as the second argument to re.compile(), the behavior of the dot character changes.\n",
        "\n",
        "By default, without the re.DOTALL flag, the dot character (.) matches any character except a newline. This means that it will match alphanumeric characters, symbols, whitespace, etc., but not newline characters.\n",
        "\n",
        "However, when the re.DOTALL flag (or re.S as a shorthand) is passed as the second argument to re.compile(), the dot character (.) will match any character, including newline characters (\\n)."
      ],
      "metadata": {
        "id": "vmYgf1XPvqFx"
      }
    },
    {
      "cell_type": "markdown",
      "source": [
        "Asnwer 18\n",
        "\n",
        "\n",
        "If numReg = re.compile(r'\\d+'), the numReg.sub('X', '11 drummers, 10 pipers, five rings, 4 hens') expression will replace all occurrences of digits in the input string with the letter 'X'. Here's the result:\n",
        "\n",
        "Input: '11 drummers, 10 pipers, five rings, 4 hens'\n",
        "\n",
        "Output: 'X drummers, X pipers, five rings, X hens'\n",
        "\n",
        "Explanation:\n",
        "\n",
        "The regular expression pattern \\d+ matches one or more digits.\n",
        "The sub() method of the compiled regular expression object numReg replaces all matches of the pattern in the input string with the replacement string 'X'.\n",
        "In the given input string, the digits '11', '10', and '4' are matched by the pattern, and they are replaced with 'X', resulting in the output string 'X drummers, X pipers, five rings, X hens'."
      ],
      "metadata": {
        "id": "YH9BHk2Zvvxv"
      }
    },
    {
      "cell_type": "markdown",
      "source": [
        "Answer 19\n",
        "\n",
        "Passing re.VERBOSE as the second argument to re.compile() allows you to write more readable and organized regular expressions by enabling verbose mode. Verbose mode ignores whitespace and comments within the regular expression pattern, allowing you to add formatting and comments for improved readability. It has no impact on the matching behavior of the regular expression.\n",
        "\n",
        "Here's how you can use re.VERBOSE to make your regular expressions more readable:\n",
        "\n",
        "Remove whitespace: In verbose mode, whitespace characters within the regular expression pattern are ignored. This allows you to add extra spaces, line breaks, and indentation to enhance readability without affecting the pattern itself.\n",
        "\n",
        "Add comments: You can include comments within the regular expression pattern using the # character. These comments are ignored by the regular expression engine but can be used to explain the purpose or logic of specific parts of the pattern."
      ],
      "metadata": {
        "id": "1tQIBP_lvyip"
      }
    },
    {
      "cell_type": "code",
      "source": [
        "  Answer 20\n",
        "import re\n",
        "\n",
        "pattern = re.compile(r'^\\d{1,3}(,\\d{3})*$')\n",
        "\n",
        "\n",
        "pattern = re.compile(r'^\\d{1,3}(,\\d{3})*$')\n",
        "\n",
        "print(pattern.match('42'))  # Match\n",
        "print(pattern.match('1,234'))  # Match\n",
        "print(pattern.match('6,368,745'))  # Match\n",
        "print(pattern.match('12,34,567'))  # No match\n",
        "print(pattern.match('1234'))  # No match"
      ],
      "metadata": {
        "colab": {
          "base_uri": "https://localhost:8080/"
        },
        "id": "Akulvf_dwLKc",
        "outputId": "e72d9859-8cc1-450e-c9fe-74ce9f164558"
      },
      "execution_count": 2,
      "outputs": [
        {
          "output_type": "stream",
          "name": "stdout",
          "text": [
            "<re.Match object; span=(0, 2), match='42'>\n",
            "<re.Match object; span=(0, 5), match='1,234'>\n",
            "<re.Match object; span=(0, 9), match='6,368,745'>\n",
            "None\n",
            "None\n"
          ]
        }
      ]
    },
    {
      "cell_type": "code",
      "execution_count": 3,
      "metadata": {
        "id": "M8E_TOihP0mm",
        "colab": {
          "base_uri": "https://localhost:8080/"
        },
        "outputId": "81130b8a-ee4a-404a-e3f6-0ae52e38d325"
      },
      "outputs": [
        {
          "output_type": "stream",
          "name": "stdout",
          "text": [
            "<re.Match object; span=(0, 15), match='Haruto Watanabe'>\n",
            "<re.Match object; span=(0, 14), match='Alice Watanabe'>\n",
            "<re.Match object; span=(0, 16), match='RoboCop Watanabe'>\n",
            "None\n",
            "None\n",
            "None\n",
            "None\n"
          ]
        }
      ],
      "source": [
        "Answer 21\n",
        "\n",
        "import re\n",
        "\n",
        "pattern = re.compile(r'^[A-Z][a-zA-Z]*\\sWatanabe$')\n",
        "pattern = re.compile(r'^[A-Z][a-zA-Z]*\\sWatanabe$')\n",
        "\n",
        "print(pattern.match('Haruto Watanabe'))  # Match\n",
        "print(pattern.match('Alice Watanabe'))  # Match\n",
        "print(pattern.match('RoboCop Watanabe'))  # Match\n",
        "print(pattern.match('haruto Watanabe'))  # No match\n",
        "print(pattern.match('Mr. Watanabe'))  # No match\n",
        "print(pattern.match('Watanabe'))  # No match\n",
        "print(pattern.match('Haruto watanabe'))  # No match\n",
        "\n",
        "\n"
      ]
    },
    {
      "cell_type": "code",
      "source": [
        "Answer 22\n",
        "\n",
        "\n",
        "import re\n",
        "\n",
        "pattern = re.compile(r'^(Alice|Bob|Carol)\\s(eats|pets|throws)\\s(apples|cats|baseballs)\\.$', re.IGNORECASE)\n",
        "pattern = re.compile(r'^(Alice|Bob|Carol)\\s(eats|pets|throws)\\s(apples|cats|baseballs)\\.$', re.IGNORECASE)\n",
        "\n",
        "print(pattern.match('Alice eats apples.'))  # Match\n",
        "print(pattern.match('Bob pets cats.'))  # Match\n",
        "print(pattern.match('Carol throws baseballs.'))  # Match\n",
        "print(pattern.match('Alice throws Apples.'))  # Match\n",
        "print(pattern.match('BOB EATS CATS.'))  # Match\n",
        "print(pattern.match('RoboCop eats apples.'))  # No match\n",
        "print(pattern.match('ALICE THROWS FOOTBALLS.'))  # No match\n",
        "print(pattern.match('Carol eats 7 cats.'))  # No match"
      ],
      "metadata": {
        "colab": {
          "base_uri": "https://localhost:8080/"
        },
        "id": "7EzLAIoJwxzo",
        "outputId": "9b102bf4-9064-4ea8-e1a2-15e579f0e427"
      },
      "execution_count": 5,
      "outputs": [
        {
          "output_type": "stream",
          "name": "stdout",
          "text": [
            "<re.Match object; span=(0, 18), match='Alice eats apples.'>\n",
            "<re.Match object; span=(0, 14), match='Bob pets cats.'>\n",
            "<re.Match object; span=(0, 23), match='Carol throws baseballs.'>\n",
            "<re.Match object; span=(0, 20), match='Alice throws Apples.'>\n",
            "<re.Match object; span=(0, 14), match='BOB EATS CATS.'>\n",
            "None\n",
            "None\n",
            "None\n"
          ]
        }
      ]
    }
  ]
}