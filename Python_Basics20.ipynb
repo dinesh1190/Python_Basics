{
  "nbformat": 4,
  "nbformat_minor": 0,
  "metadata": {
    "colab": {
      "provenance": [],
      "authorship_tag": "ABX9TyPzqyoY5G46BHv8v+EpCagF",
      "include_colab_link": true
    },
    "kernelspec": {
      "name": "python3",
      "display_name": "Python 3"
    },
    "language_info": {
      "name": "python"
    }
  },
  "cells": [
    {
      "cell_type": "markdown",
      "metadata": {
        "id": "view-in-github",
        "colab_type": "text"
      },
      "source": [
        "<a href=\"https://colab.research.google.com/github/dinesh1190/Python_Basics/blob/main/Python_Basics20.ipynb\" target=\"_parent\"><img src=\"https://colab.research.google.com/assets/colab-badge.svg\" alt=\"Open In Colab\"/></a>"
      ]
    },
    {
      "cell_type": "code",
      "execution_count": 1,
      "metadata": {
        "id": "ij7-pA-ldaY9"
      },
      "outputs": [],
      "source": [
        "Answer 1\n",
        "\n",
        "\n",
        "test1 = 'This is a test of the emergency text system,'\n",
        "with open('test.txt', 'w') as file:\n",
        "    file.write(test1)"
      ]
    },
    {
      "cell_type": "code",
      "source": [
        "Answer 2\n",
        "\n",
        "with open('test.txt', 'r') as file:\n",
        "    test2 = file.read()\n",
        "\n",
        "# Compare the two variables\n",
        "if test1 == test2:\n",
        "    print(\"No difference between test1 and test2.\")\n",
        "else:\n",
        "    print(\"There is a difference between test1 and test2.\")"
      ],
      "metadata": {
        "colab": {
          "base_uri": "https://localhost:8080/"
        },
        "id": "FzUuAirIhwFb",
        "outputId": "b8708e0b-0631-479a-bf7c-6607a1883b0e"
      },
      "execution_count": 2,
      "outputs": [
        {
          "output_type": "stream",
          "name": "stdout",
          "text": [
            "No difference between test1 and test2.\n"
          ]
        }
      ]
    },
    {
      "cell_type": "code",
      "source": [
        "Answer 3\n",
        "\n",
        "\n",
        "csv_data = '''title,author,year\n",
        "The Weirdstone of Brisingamen,Alan Garner,1960\n",
        "Perdido Street Station,China Miéville,2000\n",
        "Thud!,Terry Pratchett,2005\n",
        "The Spellman Files,Lisa Lutz,2007\n",
        "Small Gods,Terry Pratchett,1992'''\n",
        "\n",
        "with open('books.csv', 'w') as file:\n",
        "    file.write(csv_data)"
      ],
      "metadata": {
        "id": "YcAAUea6h0X5"
      },
      "execution_count": 4,
      "outputs": []
    },
    {
      "cell_type": "code",
      "source": [
        "Answer 4\n",
        "\n",
        "import sqlite3\n",
        "\n",
        "# Create a connection to the database\n",
        "conn = sqlite3.connect('books.db')\n",
        "cursor = conn.cursor()\n",
        "\n",
        "# Create the 'books' table\n",
        "cursor.execute('''\n",
        "    CREATE TABLE books (\n",
        "        title TEXT,\n",
        "        author TEXT,\n",
        "        year INTEGER\n",
        "    )\n",
        "''')\n",
        "\n",
        "# Commit the changes and close the connection\n",
        "conn.commit()\n",
        "conn.close()"
      ],
      "metadata": {
        "id": "UAuJOBCRiXaB"
      },
      "execution_count": 5,
      "outputs": []
    },
    {
      "cell_type": "code",
      "source": [
        "Answer 5\n",
        "\n",
        "import csv\n",
        "\n",
        "# Open the CSV file and read its contents\n",
        "with open('books.csv', 'r') as file:\n",
        "    csv_data = csv.reader(file)\n",
        "\n",
        "    # Skip the header row\n",
        "    next(csv_data)\n",
        "\n",
        "    # Insert each row into the 'books' table\n",
        "    conn = sqlite3.connect('books.db')\n",
        "    cursor = conn.cursor()\n",
        "    for row in csv_data:\n",
        "        cursor.execute('INSERT INTO books VALUES (?, ?, ?)', row)\n",
        "\n",
        "    # Commit the changes and close the connection\n",
        "    conn.commit()\n",
        "    conn.close()"
      ],
      "metadata": {
        "id": "nt8BVM7njFpL"
      },
      "execution_count": null,
      "outputs": []
    },
    {
      "cell_type": "code",
      "source": [
        "Answer 6\n",
        "\n",
        "\n",
        "conn = sqlite3.connect('books.db')\n",
        "cursor = conn.cursor()\n",
        "\n",
        "# Select the 'title' column and order by it alphabetically\n",
        "cursor.execute('SELECT title FROM books ORDER BY title ASC')\n",
        "\n",
        "# Fetch all the results and print them\n",
        "results = cursor.fetchall()\n",
        "for row in results:\n",
        "    print(row[0])\n",
        "\n",
        "# Close the connection\n",
        "conn.close()"
      ],
      "metadata": {
        "id": "o7MsxcnzjIiJ"
      },
      "execution_count": null,
      "outputs": []
    },
    {
      "cell_type": "code",
      "source": [
        "Answer 7\n",
        "\n",
        "\n",
        "conn = sqlite3.connect('books.db')\n",
        "cursor = conn.cursor()\n",
        "\n",
        "# Select all columns and order by the 'year' column\n",
        "cursor.execute('SELECT * FROM books ORDER BY year ASC')\n",
        "\n",
        "# Fetch all the results and print them\n",
        "results = cursor.fetchall()\n",
        "for row in results:\n",
        "    print(row)\n",
        "\n",
        "# Close the connection\n",
        "conn.close()"
      ],
      "metadata": {
        "id": "7O3QUc-AjLov"
      },
      "execution_count": null,
      "outputs": []
    },
    {
      "cell_type": "code",
      "source": [
        "Answer 8\n",
        "\n",
        "\n",
        "from sqlalchemy import create_engine\n",
        "\n",
        "# Connect to the SQLite database\n",
        "engine = create_engine('sqlite:///books.db')\n",
        "\n",
        "# Perform database operations using the engine\n",
        "# ..."
      ],
      "metadata": {
        "id": "XQgAOXqMjOdc"
      },
      "execution_count": null,
      "outputs": []
    },
    {
      "cell_type": "code",
      "source": [
        "Answer 9\n",
        "\n",
        "\n",
        "\n",
        "import redis\n",
        "\n",
        "# Connect to the Redis server\n",
        "r = redis.Redis()\n",
        "\n",
        "# Create the Redis hash\n",
        "r.hmset('test', {'count': 1, 'name': 'Fester Bestertester'})\n",
        "\n",
        "# Retrieve and print all the fields of the Redis hash\n",
        "fields = r.hgetall('test')\n",
        "for field, value in fields.items():\n",
        "    print(f\"{field.decode()}: {value.decode()}\")"
      ],
      "metadata": {
        "id": "RjMOkVpdjRJH"
      },
      "execution_count": null,
      "outputs": []
    },
    {
      "cell_type": "code",
      "source": [
        "Answer 10\n",
        "\n",
        "\n",
        "# Increment the 'count' field by 1\n",
        "r.hincrby('test', 'count', 1)\n",
        "\n",
        "# Retrieve and print the updated value of the 'count' field\n",
        "count = r.hget('test', 'count')\n",
        "print(f\"Updated count: {count.decode()}\")"
      ],
      "metadata": {
        "id": "hQoGXQ9sjUAj"
      },
      "execution_count": null,
      "outputs": []
    }
  ]
}