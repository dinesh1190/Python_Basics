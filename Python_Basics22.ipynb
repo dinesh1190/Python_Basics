{
  "nbformat": 4,
  "nbformat_minor": 0,
  "metadata": {
    "colab": {
      "provenance": [],
      "authorship_tag": "ABX9TyNqj8ZX7NgMwFGkljKU+O9A",
      "include_colab_link": true
    },
    "kernelspec": {
      "name": "python3",
      "display_name": "Python 3"
    },
    "language_info": {
      "name": "python"
    }
  },
  "cells": [
    {
      "cell_type": "markdown",
      "metadata": {
        "id": "view-in-github",
        "colab_type": "text"
      },
      "source": [
        "<a href=\"https://colab.research.google.com/github/dinesh1190/Python_Basics/blob/main/Python_Basics22.ipynb\" target=\"_parent\"><img src=\"https://colab.research.google.com/assets/colab-badge.svg\" alt=\"Open In Colab\"/></a>"
      ]
    },
    {
      "cell_type": "code",
      "execution_count": 3,
      "metadata": {
        "colab": {
          "base_uri": "https://localhost:8080/"
        },
        "id": "Ypw8Sh5nlgwv",
        "outputId": "91a009f8-4fa4-4280-ddae-5ccbcbb25e75"
      },
      "outputs": [
        {
          "output_type": "stream",
          "name": "stdout",
          "text": [
            "iNeuron\n"
          ]
        }
      ],
      "source": [
        "Answer 1\n",
        "#The result of the code is \"iNeuron\". When the function func() is called, it prints the value of the global variable X, which is \"iNeuron\".\n",
        "\n",
        "X = 'iNeuron'\n",
        "def func():\n",
        "  print(X)\n",
        "func()"
      ]
    },
    {
      "cell_type": "code",
      "source": [
        "Answer 2\n",
        "  X = 'iNeuron'\n",
        "\n",
        "def func():\n",
        "    X = 'NI'\n",
        "    print(X)\n",
        "\n",
        "func()\n",
        "print(X)"
      ],
      "metadata": {
        "colab": {
          "base_uri": "https://localhost:8080/"
        },
        "id": "zcoG3OAhnGcl",
        "outputId": "45ad563e-3176-461d-8eaf-b7c4b1566859"
      },
      "execution_count": 14,
      "outputs": [
        {
          "output_type": "stream",
          "name": "stdout",
          "text": [
            "NI\n",
            "iNeuron\n"
          ]
        }
      ]
    },
    {
      "cell_type": "code",
      "source": [],
      "metadata": {
        "id": "V24DMwoSoDD_"
      },
      "execution_count": null,
      "outputs": []
    },
    {
      "cell_type": "markdown",
      "source": [
        "#**Answer 3**\n",
        "\n",
        "\n",
        "The code prints \"NI\" and then \"iNeuron\". Inside the function func(), a new local variable X is assigned the value \"NI\". When print(X) is called within the function, it prints the value of the local variable X, which is \"NI\". After calling func(), when print(X) is called outside the function, it refers to the global variable X, which retains its original value \"iNeuron\""
      ],
      "metadata": {
        "id": "Ex9gTDizoIO9"
      }
    },
    {
      "cell_type": "code",
      "source": [
        "Answer 4\n",
        "\n",
        "\n",
        " X = 'iNeuron'\n",
        " def func():\n",
        "  global X\n",
        "X = 'NI'\n",
        "\n",
        " func()\n",
        " print(X)"
      ],
      "metadata": {
        "colab": {
          "base_uri": "https://localhost:8080/"
        },
        "id": "T2cdJEjloQLd",
        "outputId": "760239ea-a854-4b5b-f1bf-5802825cd482"
      },
      "execution_count": 16,
      "outputs": [
        {
          "output_type": "stream",
          "name": "stdout",
          "text": [
            "NI\n"
          ]
        }
      ]
    },
    {
      "cell_type": "code",
      "source": [
        "Answer 5\n",
        "\n",
        " X = 'iNeuron'\n",
        " def func():\n",
        "  X = 'NI'\n",
        "def nested():\n",
        "  print(X)\n",
        "nested()\n",
        "\n",
        " func()\n",
        " X\n",
        "\n",
        " #The output of the code is \"NI\". Within the func() function, a new local variable X is assigned the value \"NI\".\n",
        " #Inside the nested function nested(), when print(X) is called, it prints the value of the local variable X, which is \"NI\".\n",
        " #The global variable X remains unchanged, so when X is printed outside the func() function, it still holds its original value \"iNeuron\"."
      ],
      "metadata": {
        "colab": {
          "base_uri": "https://localhost:8080/",
          "height": 53
        },
        "id": "94ljwPHnoo5N",
        "outputId": "efe87bac-3742-41cc-f916-5735deaf4d06"
      },
      "execution_count": 18,
      "outputs": [
        {
          "output_type": "stream",
          "name": "stdout",
          "text": [
            "iNeuron\n"
          ]
        },
        {
          "output_type": "execute_result",
          "data": {
            "text/plain": [
              "'iNeuron'"
            ],
            "application/vnd.google.colaboratory.intrinsic+json": {
              "type": "string"
            }
          },
          "metadata": {},
          "execution_count": 18
        }
      ]
    },
    {
      "cell_type": "code",
      "source": [
        "Answer 6\n",
        "\n",
        "\n",
        "def func():\n",
        "    def nested():\n",
        "        nonlocal X\n",
        "        X = 'Spam'\n",
        "        print(X)\n",
        "    X = 'NI'\n",
        "    nested()\n",
        "\n",
        "func()\n",
        "\n",
        "#Explanation:\n",
        "\n",
        "The func() function defines the nested function nested().\n",
        "Inside nested(), the nonlocal keyword is used to indicate that X refers to the variable from the nearest enclosing scope, which is X from func().\n",
        "The value of X is assigned as \"Spam\" inside nested().\n",
        "When print(X) is called within nested(), it prints the value of X, which is \"Spam\" in this case.\n",
        "Finally, the func() function is called, which in turn calls nested(), resulting in the value \"Spam\" being printed."
      ],
      "metadata": {
        "colab": {
          "base_uri": "https://localhost:8080/"
        },
        "id": "dQdlBIY8pNTm",
        "outputId": "c8def63d-03d0-449d-fb33-c000a4f3b5a6"
      },
      "execution_count": 32,
      "outputs": [
        {
          "output_type": "stream",
          "name": "stdout",
          "text": [
            "Spam\n"
          ]
        }
      ]
    }
  ]
}