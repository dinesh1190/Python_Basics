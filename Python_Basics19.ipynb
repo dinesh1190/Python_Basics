{
  "nbformat": 4,
  "nbformat_minor": 0,
  "metadata": {
    "colab": {
      "provenance": [],
      "authorship_tag": "ABX9TyO7/vWqpcoxAA3P8CXQpOkG",
      "include_colab_link": true
    },
    "kernelspec": {
      "name": "python3",
      "display_name": "Python 3"
    },
    "language_info": {
      "name": "python"
    }
  },
  "cells": [
    {
      "cell_type": "markdown",
      "metadata": {
        "id": "view-in-github",
        "colab_type": "text"
      },
      "source": [
        "<a href=\"https://colab.research.google.com/github/dinesh1190/Python_Basics/blob/main/Python_Basics19.ipynb\" target=\"_parent\"><img src=\"https://colab.research.google.com/assets/colab-badge.svg\" alt=\"Open In Colab\"/></a>"
      ]
    },
    {
      "cell_type": "code",
      "execution_count": 1,
      "metadata": {
        "colab": {
          "base_uri": "https://localhost:8080/"
        },
        "id": "ZNBCm081aXDO",
        "outputId": "65f4bfd7-d935-4150-9bbf-f8896567a2b9"
      },
      "outputs": [
        {
          "output_type": "stream",
          "name": "stdout",
          "text": [
            "<class '__main__.Thing'>\n",
            "<__main__.Thing object at 0x7e636f529810>\n"
          ]
        }
      ],
      "source": [
        "Answer 1\n",
        "\n",
        "\n",
        "class Thing:\n",
        "    pass\n",
        "\n",
        "example = Thing()\n",
        "\n",
        "print(Thing)\n",
        "print(example)"
      ]
    },
    {
      "cell_type": "code",
      "source": [
        "Answer 2\n",
        "\n",
        "class Thing2:\n",
        "    letters = 'abc'\n",
        "\n",
        "print(Thing2.letters)"
      ],
      "metadata": {
        "colab": {
          "base_uri": "https://localhost:8080/"
        },
        "id": "Lx5GQcItcsRN",
        "outputId": "bca83002-4f9a-420f-ea4f-367d25fa8809"
      },
      "execution_count": 2,
      "outputs": [
        {
          "output_type": "stream",
          "name": "stdout",
          "text": [
            "abc\n"
          ]
        }
      ]
    },
    {
      "cell_type": "code",
      "source": [
        "Answer 3\n",
        "\n",
        "\n",
        "class Thing3:\n",
        "    def __init__(self):\n",
        "        self.letters = 'xyz'\n",
        "\n",
        "example = Thing3()\n",
        "print(example.letters)"
      ],
      "metadata": {
        "colab": {
          "base_uri": "https://localhost:8080/"
        },
        "id": "YO-LMWzicu9h",
        "outputId": "373b59b5-3cef-4cf5-f2ed-e98fbe5cd493"
      },
      "execution_count": 3,
      "outputs": [
        {
          "output_type": "stream",
          "name": "stdout",
          "text": [
            "xyz\n"
          ]
        }
      ]
    },
    {
      "cell_type": "code",
      "source": [
        "Answer 4\n",
        "\n",
        "\n",
        "class Element:\n",
        "    def __init__(self, name, symbol, number):\n",
        "        self.name = name\n",
        "        self.symbol = symbol\n",
        "        self.number = number\n",
        "\n",
        "element = Element('Hydrogen', 'H', 1)"
      ],
      "metadata": {
        "id": "i2l-0mYFcxbK"
      },
      "execution_count": 9,
      "outputs": []
    },
    {
      "cell_type": "code",
      "source": [
        "Answer 5\n",
        "\n",
        "\n",
        "class Element:\n",
        "    def __init__(self, name, symbol, number):\n",
        "        self.name = name\n",
        "        self.symbol = symbol\n",
        "        self.number = number\n",
        "\n",
        "element_data = {'name': 'Hydrogen', 'symbol': 'H', 'number': 1}\n",
        "hydrogen = Element(**element_data)"
      ],
      "metadata": {
        "id": "Ft4q1Fu8c1xh"
      },
      "execution_count": 8,
      "outputs": []
    },
    {
      "cell_type": "code",
      "source": [
        "Answer 6\n",
        "\n",
        "\n",
        "class Element:\n",
        "    def __init__(self, name, symbol, number):\n",
        "        self.name = name\n",
        "        self.symbol = symbol\n",
        "        self.number = number\n",
        "\n",
        "    def dump(self):\n",
        "        print(f\"Name: {self.name}, Symbol: {self.symbol}, Number: {self.number}\")\n",
        "\n",
        "hydrogen = Element('Hydrogen', 'H', 1)\n",
        "hydrogen.dump()"
      ],
      "metadata": {
        "colab": {
          "base_uri": "https://localhost:8080/"
        },
        "id": "4nEOtg7Hc4Ud",
        "outputId": "45ca4198-ebe5-45de-b3c2-5fdb1c78389b"
      },
      "execution_count": 6,
      "outputs": [
        {
          "output_type": "stream",
          "name": "stdout",
          "text": [
            "Name: Hydrogen, Symbol: H, Number: 1\n"
          ]
        }
      ]
    },
    {
      "cell_type": "code",
      "source": [
        "Answer 7\n",
        "\n",
        "\n",
        "class Element:\n",
        "    def __init__(self, name, symbol, number):\n",
        "        self.name = name\n",
        "        self.symbol = symbol\n",
        "        self.number = number\n",
        "\n",
        "    def __str__(self):\n",
        "        return f\"Name: {self.name}, Symbol: {self.symbol}, Number: {self.number}\"\n",
        "\n",
        "hydrogen = Element('Hydrogen', 'H', 1)\n",
        "print(hydrogen)"
      ],
      "metadata": {
        "colab": {
          "base_uri": "https://localhost:8080/"
        },
        "id": "Mdhn3yQwc_MO",
        "outputId": "1b1d856d-4867-44ff-934f-71bb55de3c97"
      },
      "execution_count": 7,
      "outputs": [
        {
          "output_type": "stream",
          "name": "stdout",
          "text": [
            "Name: Hydrogen, Symbol: H, Number: 1\n"
          ]
        }
      ]
    },
    {
      "cell_type": "code",
      "source": [
        "Answer 8\n",
        "\n",
        "\n",
        "class Element:\n",
        "    def __init__(self, name, symbol, number):\n",
        "        self.__name = name\n",
        "        self.__symbol = symbol\n",
        "        self.__number = number\n",
        "\n",
        "    def get_name(self):\n",
        "        return self.__name\n",
        "\n",
        "    def get_symbol(self):\n",
        "        return self.__symbol\n",
        "\n",
        "    def get_number(self):\n",
        "        return self.__number\n",
        "\n",
        "hydrogen = Element('Hydrogen', 'H', 1)\n",
        "print(hydrogen.get_name())\n",
        "print(hydrogen.get_symbol())\n",
        "print(hydrogen.get_number())"
      ],
      "metadata": {
        "colab": {
          "base_uri": "https://localhost:8080/"
        },
        "id": "HI91QGXDdH_p",
        "outputId": "c83951b6-f21a-4141-9eff-5ebbd4d7e0fe"
      },
      "execution_count": 10,
      "outputs": [
        {
          "output_type": "stream",
          "name": "stdout",
          "text": [
            "Hydrogen\n",
            "H\n",
            "1\n"
          ]
        }
      ]
    },
    {
      "cell_type": "code",
      "source": [
        "Answer 9\n",
        "\n",
        "\n",
        "class Bear:\n",
        "    def eats(self):\n",
        "        return 'berries'\n",
        "\n",
        "class Rabbit:\n",
        "    def eats(self):\n",
        "        return 'clover'\n",
        "\n",
        "class Octothorpe:\n",
        "    def eats(self):\n",
        "        return 'campers'\n",
        "\n",
        "bear = Bear()\n",
        "rabbit = Rabbit()\n",
        "octothorpe = Octothorpe()\n",
        "\n",
        "print(bear.eats())\n",
        "print(rabbit.eats())\n",
        "print(octothorpe.eats())"
      ],
      "metadata": {
        "colab": {
          "base_uri": "https://localhost:8080/"
        },
        "id": "Nm3JlkWddPju",
        "outputId": "25c725c7-bd03-4423-a0b2-d2537856a96f"
      },
      "execution_count": 11,
      "outputs": [
        {
          "output_type": "stream",
          "name": "stdout",
          "text": [
            "berries\n",
            "clover\n",
            "campers\n"
          ]
        }
      ]
    },
    {
      "cell_type": "code",
      "source": [
        "Answer 10\n",
        "\n",
        "\n",
        "class Laser:\n",
        "    def does(self):\n",
        "        return 'disintegrate'\n",
        "\n",
        "class Claw:\n",
        "    def does(self):\n",
        "        return 'crush'\n",
        "\n",
        "class SmartPhone:\n",
        "    def does(self):\n",
        "        return 'ring'\n",
        "\n",
        "class Robot:\n",
        "    def __init__(self):\n",
        "        self.laser = Laser()\n",
        "        self.claw = Claw()\n",
        "        self.smartphone = SmartPhone()\n",
        "\n",
        "    def does(self):\n",
        "        print(f\"Laser: {self.laser.does()}\")\n",
        "        print(f\"Claw: {self.claw.does()}\")\n",
        "        print(f\"SmartPhone: {self.smartphone.does()}\")\n",
        "\n",
        "robot = Robot()\n",
        "robot.does()"
      ],
      "metadata": {
        "colab": {
          "base_uri": "https://localhost:8080/"
        },
        "id": "TBWVAaBxdU3-",
        "outputId": "34c92ce4-2b12-49d3-872c-24713099a586"
      },
      "execution_count": 12,
      "outputs": [
        {
          "output_type": "stream",
          "name": "stdout",
          "text": [
            "Laser: disintegrate\n",
            "Claw: crush\n",
            "SmartPhone: ring\n"
          ]
        }
      ]
    }
  ]
}